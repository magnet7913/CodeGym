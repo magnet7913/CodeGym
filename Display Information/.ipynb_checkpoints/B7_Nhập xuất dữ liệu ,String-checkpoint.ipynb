{
 "cells": [
  {
   "cell_type": "markdown",
   "id": "5c5bd570",
   "metadata": {},
   "source": [
    "# Nhập xuất dữ liệu và String"
   ]
  },
  {
   "cell_type": "markdown",
   "id": "5bb00c21",
   "metadata": {},
   "source": [
    "## cách nhập xuất dữ liệu"
   ]
  },
  {
   "cell_type": "markdown",
   "id": "9e169781",
   "metadata": {},
   "source": [
    "để in những nội dung chúng ta mong muốn ra màn hình ,chúng ta sử dụng lệnh print()"
   ]
  },
  {
   "cell_type": "code",
   "execution_count": 1,
   "id": "435ee833",
   "metadata": {},
   "outputs": [
    {
     "name": "stdout",
     "output_type": "stream",
     "text": [
      "python is very easy\n"
     ]
    }
   ],
   "source": [
    "# ví dụ : ta in ra màn hình nội dung \"python is very easy\"\n",
    "python = \"python is very easy\"\n",
    "print(\"python is very easy\")\n"
   ]
  },
  {
   "cell_type": "markdown",
   "id": "925922f5",
   "metadata": {},
   "source": [
    "## Các cách custom với lệnh print()\n",
    "để in một nội dung kèm theo giá trị của biến , ta có những cách sau "
   ]
  },
  {
   "cell_type": "code",
   "execution_count": 1,
   "id": "a16ccadf",
   "metadata": {},
   "outputs": [],
   "source": [
    "food_1 = \"Trà Sữa\"\n",
    "food_2 = \"Nước cam\""
   ]
  },
  {
   "cell_type": "code",
   "execution_count": 1,
   "id": "f2fa04a9",
   "metadata": {},
   "outputs": [
    {
     "name": "stdout",
     "output_type": "stream",
     "text": [
      "Tôi thích uống trà sữa và tôi không thích uống nước cam\n"
     ]
    }
   ],
   "source": [
    "# In trực tiếp\n",
    "print(\"Tôi thích uống trà sữa và tôi không thích uống nước cam\")"
   ]
  },
  {
   "cell_type": "code",
   "execution_count": 6,
   "id": "a09bef17",
   "metadata": {},
   "outputs": [
    {
     "name": "stdout",
     "output_type": "stream",
     "text": [
      "Tôi thích uống Trà Sữa và tôi không thích uống Nước cam\n"
     ]
    }
   ],
   "source": [
    "# in bằng cách ghép các nội dung chữ với nhau\n",
    "print(\"Tôi thích uống\",food_1,\"và tôi không thích uống\",food_2)"
   ]
  },
  {
   "cell_type": "code",
   "execution_count": 4,
   "id": "8d337341",
   "metadata": {},
   "outputs": [
    {
     "name": "stdout",
     "output_type": "stream",
     "text": [
      "Tôi thích uống Trà Sữa và tôi không thích uống Nước cam\n"
     ]
    }
   ],
   "source": [
    "# in theo format string\n",
    "print(f'Tôi thích uống {food_1} và tôi không thích uống {food_2}')"
   ]
  },
  {
   "cell_type": "code",
   "execution_count": 7,
   "id": "20fae4d6",
   "metadata": {},
   "outputs": [
    {
     "name": "stdout",
     "output_type": "stream",
     "text": [
      "Tôi thích uống Trà Sữa và tôi không thích uống Nước cam"
     ]
    }
   ],
   "source": [
    "# sử dụng nhiều lệnh print\n",
    "print('Tôi thích uống ',end = '')\n",
    "print(food_1,end = '')\n",
    "print(' và tôi không thích uống ',end = '')\n",
    "print(food_2,end = '')"
   ]
  },
  {
   "cell_type": "markdown",
   "id": "3b96ce72",
   "metadata": {},
   "source": [
    "## Nhập dữ liệu\n",
    "để nhập dữ liệu vào chương trình , chúng ta sử dụng hàm input()"
   ]
  },
  {
   "cell_type": "code",
   "execution_count": null,
   "id": "e925ff53",
   "metadata": {},
   "outputs": [],
   "source": [
    "cousera = input('Bài học: ')"
   ]
  },
  {
   "cell_type": "markdown",
   "id": "2c618354",
   "metadata": {},
   "source": [
    "#### Thực Hành: Viết chương trình tính chu vi và diện tích hình chữ nhật và in ra màn hình các cách hiện thị, input được nhập từ bàn phím "
   ]
  },
  {
   "cell_type": "code",
   "execution_count": 1,
   "id": "85dedbec",
   "metadata": {},
   "outputs": [
    {
     "name": "stdout",
     "output_type": "stream",
     "text": [
      "Nhập chiều dài: 5\n",
      "Nhập chiều rộng: 3\n"
     ]
    }
   ],
   "source": [
    "# nhập các kích thước của hình chữ nhật\n",
    "chieu_dai = int(input(\"Nhập chiều dài: \"))\n",
    "chieu_rong = int(input(\"Nhập chiều rộng: \"))"
   ]
  },
  {
   "cell_type": "code",
   "execution_count": 2,
   "id": "3850ca14",
   "metadata": {},
   "outputs": [],
   "source": [
    "# tính chu vi và diện tích \n",
    "dien_tich = chieu_dai * chieu_rong\n",
    "chu_vi = (chieu_dai + chieu_rong) * 2"
   ]
  },
  {
   "cell_type": "code",
   "execution_count": 3,
   "id": "1db28ac3",
   "metadata": {},
   "outputs": [
    {
     "name": "stdout",
     "output_type": "stream",
     "text": [
      "Chu vi hình chữ nhật là: 16 , diện tích hình chữ nhật là: 15\n",
      "Chu vi hình chữ nhật là: 16, diện tích hình chữ nhật là: 15\n",
      "Chu vi hình chữ nhật là: 16, diện tích hình chữ nhật là: 15"
     ]
    }
   ],
   "source": [
    "# in ra 3 cách hiển thị của kết quả\n",
    "print(\"Chu vi hình chữ nhật là:\",chu_vi,', diện tích hình chữ nhật là:',dien_tich)\n",
    "print(f'Chu vi hình chữ nhật là: {chu_vi}, diện tích hình chữ nhật là: {dien_tich}')\n",
    "print('Chu vi hình chữ nhật là: ',end = '')\n",
    "print(chu_vi,end = '')\n",
    "print(', diện tích hình chữ nhật là: ',end = '')\n",
    "print(dien_tich,end = '')"
   ]
  },
  {
   "cell_type": "markdown",
   "id": "5707258e",
   "metadata": {},
   "source": [
    "#### Thực hành : viết chương trình nhập vào số đo canh và mã màu của tam giác đều , sau đó sử dụng thư viện turtle vẽ ra số đo và màu tương ứng"
   ]
  },
  {
   "cell_type": "code",
   "execution_count": 1,
   "id": "324ae994",
   "metadata": {},
   "outputs": [
    {
     "name": "stdout",
     "output_type": "stream",
     "text": [
      "Chiều dài cạnh tam giác đều: 200\n",
      "Màu cạnh tam giác đều: red\n"
     ]
    }
   ],
   "source": [
    "chieu_dai = int(input('Chiều dài cạnh tam giác đều: '))\n",
    "mau_canh = input('Màu cạnh tam giác đều: ')\n",
    "import turtle\n",
    "pen = turtle.Turtle()\n",
    "pen.color(mau_canh)\n",
    "for l in range(0,3):\n",
    "    pen.forward(chieu_dai)\n",
    "    pen.left(120)\n",
    "\n",
    "turtle.done()"
   ]
  },
  {
   "cell_type": "markdown",
   "id": "214858de",
   "metadata": {},
   "source": [
    "## Cú Pháp import"
   ]
  },
  {
   "cell_type": "markdown",
   "id": "9c3c3f3f",
   "metadata": {},
   "source": [
    "để sử dụng một module từ bên ngoài , chúng ta sử dụng từ khóa import . Sau đây là một số ví dụ import phổ biến "
   ]
  },
  {
   "cell_type": "markdown",
   "id": "491929e7",
   "metadata": {},
   "source": [
    "#### Random một giá trị ngẫu nhiên "
   ]
  },
  {
   "cell_type": "code",
   "execution_count": 2,
   "id": "0349d04d",
   "metadata": {},
   "outputs": [
    {
     "name": "stdout",
     "output_type": "stream",
     "text": [
      "3.141592653589793\n"
     ]
    }
   ],
   "source": [
    "# import toàn bộ module\n",
    "import math\n",
    "print(math.pi)"
   ]
  },
  {
   "cell_type": "code",
   "execution_count": 3,
   "id": "5131c8d3",
   "metadata": {},
   "outputs": [
    {
     "name": "stdout",
     "output_type": "stream",
     "text": [
      "3.141592653589793\n"
     ]
    }
   ],
   "source": [
    "# import một phần module\n",
    "from math import pi\n",
    "print(pi)"
   ]
  },
  {
   "cell_type": "markdown",
   "id": "4fc667a2",
   "metadata": {},
   "source": [
    "## Xử lý dữ liệu string trong python"
   ]
  },
  {
   "cell_type": "markdown",
   "id": "4f9f943e",
   "metadata": {},
   "source": [
    "### String là gì ?\n",
    "string là một chuỗi gồm các ký tự unicode"
   ]
  },
  {
   "cell_type": "markdown",
   "id": "1bb06c54",
   "metadata": {},
   "source": [
    "#### Khởi tạo một string"
   ]
  },
  {
   "cell_type": "code",
   "execution_count": 4,
   "id": "592a43d0",
   "metadata": {},
   "outputs": [
    {
     "name": "stdout",
     "output_type": "stream",
     "text": [
      "Bài học hôm nay\n"
     ]
    }
   ],
   "source": [
    "# One-line string\n",
    "print('Bài học hôm nay')"
   ]
  },
  {
   "cell_type": "code",
   "execution_count": 5,
   "id": "1634be82",
   "metadata": {},
   "outputs": [
    {
     "name": "stdout",
     "output_type": "stream",
     "text": [
      "Bài học hôm nay là Nhập xuất dữ liệu, String\n",
      "    + Nhập xuất dự liệu\n",
      "    + Dữ liệu kiểu string\n"
     ]
    }
   ],
   "source": [
    "# multi-line tring\n",
    "txt = '''Bài học hôm nay là Nhập xuất dữ liệu, String\n",
    "    + Nhập xuất dự liệu\n",
    "    + Dữ liệu kiểu string'''\n",
    "print(txt)"
   ]
  },
  {
   "cell_type": "markdown",
   "id": "ac28854d",
   "metadata": {},
   "source": [
    "### Thao tác phổ biến với string"
   ]
  },
  {
   "cell_type": "code",
   "execution_count": 46,
   "id": "9d37488c",
   "metadata": {},
   "outputs": [
    {
     "name": "stdout",
     "output_type": "stream",
     "text": [
      "14\n",
      "1\n"
     ]
    }
   ],
   "source": [
    "# Chiều dài chuỗi trong Python\n",
    "khoa_hoc = 'Python căn bản'\n",
    "a = [1,2,3]\n",
    "print(len(khoa_hoc))\n",
    "print(khoa_hoc.count(\"ả\"))"
   ]
  },
  {
   "cell_type": "code",
   "execution_count": 13,
   "id": "b4011bc8",
   "metadata": {},
   "outputs": [
    {
     "name": "stdout",
     "output_type": "stream",
     "text": [
      "c\n"
     ]
    }
   ],
   "source": [
    "# Truy cập các giá trị trong String\n",
    "khoa_hoc = \"Python căn bản\"\n",
    "print(khoa_hoc[7])"
   ]
  },
  {
   "cell_type": "markdown",
   "id": "745db278",
   "metadata": {},
   "source": [
    "## Các hàm cơ bản xử lý String trong Python"
   ]
  },
  {
   "cell_type": "markdown",
   "id": "0018ed27",
   "metadata": {},
   "source": [
    "Hàm strip()"
   ]
  },
  {
   "cell_type": "code",
   "execution_count": 21,
   "id": "a84941b2",
   "metadata": {},
   "outputs": [
    {
     "name": "stdout",
     "output_type": "stream",
     "text": [
      "Hello world!\n",
      "Hello world!\n"
     ]
    }
   ],
   "source": [
    "# Hàm strip() loại bỏ bất kỳ khoảng trắng từ đầu hoặc cuối cùng\n",
    "xin_chao = ' Hello world!  '\n",
    "xin_chao2 = xin_chao.strip()\n",
    "print(xin_chao2)\n",
    "print(str.strip(xin_chao))"
   ]
  },
  {
   "cell_type": "markdown",
   "id": "7c28a533",
   "metadata": {},
   "source": [
    "Hàm lower()"
   ]
  },
  {
   "cell_type": "code",
   "execution_count": 20,
   "id": "65e9b1c8",
   "metadata": {},
   "outputs": [
    {
     "name": "stdout",
     "output_type": "stream",
     "text": [
      "demacia!!!!\n",
      "demacia!!!!\n"
     ]
    }
   ],
   "source": [
    "# Hàm lower() trả về chuỗi chữ thường\n",
    "sample_1 = \"DEMACIA!!!!\"\n",
    "print(sample_1.lower())\n",
    "print(str.lower(sample_1))"
   ]
  },
  {
   "cell_type": "markdown",
   "id": "b5c6d915",
   "metadata": {},
   "source": [
    "Hàm upper()"
   ]
  },
  {
   "cell_type": "code",
   "execution_count": 22,
   "id": "9d24632d",
   "metadata": {},
   "outputs": [
    {
     "name": "stdout",
     "output_type": "stream",
     "text": [
      "FEEDING TIME!\n",
      "FEEDING TIME!\n"
     ]
    }
   ],
   "source": [
    "# Hàm upper() trả về chuỗi chữ hoa\n",
    "sample_2 = 'feeding time!'\n",
    "print(sample_2.upper())\n",
    "print(str.upper(sample_2))"
   ]
  },
  {
   "cell_type": "markdown",
   "id": "10a7c41b",
   "metadata": {},
   "source": [
    "Hàm replace()"
   ]
  },
  {
   "cell_type": "code",
   "execution_count": 26,
   "id": "bd48172d",
   "metadata": {},
   "outputs": [
    {
     "name": "stdout",
     "output_type": "stream",
     "text": [
      "Hello world!\n",
      "Xin chào bạn!\n"
     ]
    }
   ],
   "source": [
    "# Hàm replace() thay thế một chuỗi bằng một chuỗi khác\n",
    "sample_3 = \"Hello worlt!\"\n",
    "print(sample_3.replace(\"t\",\"d\"))\n",
    "print(sample_3.replace('Hello worlt','Xin chào bạn'))"
   ]
  },
  {
   "cell_type": "markdown",
   "id": "3c73da8f",
   "metadata": {},
   "source": [
    "Hàm split()"
   ]
  },
  {
   "cell_type": "code",
   "execution_count": 27,
   "id": "9cfe04d2",
   "metadata": {},
   "outputs": [
    {
     "name": "stdout",
     "output_type": "stream",
     "text": [
      "['một', 'hai', 'ba', 'bốn']\n"
     ]
    }
   ],
   "source": [
    "# Hàm split() tách chuỗi thành các chuỗi con\n",
    "sample_4 = \"một hai ba bốn\"\n",
    "print(sample_4.split())"
   ]
  },
  {
   "cell_type": "markdown",
   "id": "4b1a064a",
   "metadata": {},
   "source": [
    "### Kiểm tra sự tồn tại của chuỗi trong chuỗi"
   ]
  },
  {
   "cell_type": "markdown",
   "id": "1e2c7877",
   "metadata": {},
   "source": [
    "Để kiểm tra xem một cụm từ hoặc ký tự nào đó có trong một chuỗi hay không, chúng ta có thể sử dụng các từ khóa in hoặc not in."
   ]
  },
  {
   "cell_type": "code",
   "execution_count": 33,
   "id": "2718ee2a",
   "metadata": {},
   "outputs": [
    {
     "name": "stdout",
     "output_type": "stream",
     "text": [
      "True\n"
     ]
    }
   ],
   "source": [
    "# in \n",
    "sample_5 = \"một hai ba bốn năm\"\n",
    "matching_sample = \"\"\n",
    "print('bốn' in sample_5)"
   ]
  },
  {
   "cell_type": "code",
   "execution_count": 35,
   "id": "de902899",
   "metadata": {},
   "outputs": [
    {
     "name": "stdout",
     "output_type": "stream",
     "text": [
      "True\n"
     ]
    }
   ],
   "source": [
    "# not in\n",
    "sample_5 = \"một hai ba bốn năm\"\n",
    "matching_sample = \"\"\n",
    "print('sáu' not in sample_5)"
   ]
  }
 ],
 "metadata": {
  "kernelspec": {
   "display_name": "Python 3 (ipykernel)",
   "language": "python",
   "name": "python3"
  },
  "language_info": {
   "codemirror_mode": {
    "name": "ipython",
    "version": 3
   },
   "file_extension": ".py",
   "mimetype": "text/x-python",
   "name": "python",
   "nbconvert_exporter": "python",
   "pygments_lexer": "ipython3",
   "version": "3.9.13"
  }
 },
 "nbformat": 4,
 "nbformat_minor": 5
}
