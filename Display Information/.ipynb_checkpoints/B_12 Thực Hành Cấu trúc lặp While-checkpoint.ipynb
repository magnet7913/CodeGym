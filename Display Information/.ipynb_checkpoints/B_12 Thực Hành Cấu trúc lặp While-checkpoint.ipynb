{
 "cells": [
  {
   "cell_type": "markdown",
   "id": "4bb7ce8c",
   "metadata": {},
   "source": [
    "# Thực Hành Vòng lặp While"
   ]
  },
  {
   "cell_type": "code",
   "execution_count": null,
   "id": "31713936",
   "metadata": {},
   "outputs": [],
   "source": [
    "\"\"\"\n",
    "Bài 1:viết chương trình in ra tất cả các số chia hết cho 5 và 7 trong khoảng từ 1000 đến 2700\n",
    "\n",
    "\"\"\"\n",
    "five = 1000\n",
    "seven = 0\n",
    "while five <=\n"
   ]
  },
  {
   "cell_type": "code",
   "execution_count": null,
   "id": "4ddcd58c",
   "metadata": {},
   "outputs": [],
   "source": [
    "\"\"\"\n",
    "Bài 2 : Viết chương trình nhập vào chiều cao tam giác vuông và in ra hình tam giác có hình dạng như sau:\n",
    "*****\n",
    "****\n",
    "***\n",
    "**\n",
    "*\n",
    "\"\"\"\n"
   ]
  },
  {
   "cell_type": "code",
   "execution_count": null,
   "id": "d7a43af9",
   "metadata": {},
   "outputs": [],
   "source": [
    "\"\"\"\n",
    "Bài 3: Viết chương trình nhập vào chiều cao của tam giác vuông và in ra tam giác có hình dạng như sau:\n",
    "* * * * * *\n",
    "* * * * *\n",
    "* * * * \n",
    "* * * \n",
    "* * \n",
    "*\n",
    "\"\"\"\n"
   ]
  },
  {
   "cell_type": "code",
   "execution_count": null,
   "id": "1a6f16df",
   "metadata": {},
   "outputs": [],
   "source": [
    "\"\"\"\n",
    "Bài 4: Viết chương trình nhập vào chiều cao tam giác vuông và in ra tam giác có hình dạng như sau:\n",
    "* - * - *\n",
    "* - * -\n",
    "* - *\n",
    "* -\n",
    "*\n",
    "\"\"\"\n"
   ]
  },
  {
   "cell_type": "code",
   "execution_count": null,
   "id": "6c9d2b0c",
   "metadata": {},
   "outputs": [],
   "source": [
    "\"\"\"\n",
    "Bài 5: Viết chương trình bằng while  để tìm tổng dãy số: 1/1 + 1/2 + 1/3 + 1/4 + ... với số phần tử nhập từ bàn phím.\n",
    "\"\"\"\n",
    "\n"
   ]
  },
  {
   "cell_type": "code",
   "execution_count": null,
   "id": "07669a93",
   "metadata": {},
   "outputs": [],
   "source": [
    "\"\"\"\n",
    "Bài 6: Viết chương trình bằng while để tìm tổng dãy số: 1 - x2/2! + x4/4! - ... với giá trị x và số phần tử nhập từ bàn phím.\n",
    "\"\"\"\n"
   ]
  },
  {
   "cell_type": "code",
   "execution_count": null,
   "id": "f062542f",
   "metadata": {},
   "outputs": [],
   "source": [
    "\"\"\"\n",
    "Bài 7: Viết chương trình bằng while để tìm ước số chung lớn nhất của hai số được nhập từ bàn phím\n",
    "\"\"\"\n"
   ]
  },
  {
   "cell_type": "code",
   "execution_count": null,
   "id": "a26a6c45",
   "metadata": {},
   "outputs": [],
   "source": [
    "'''\n",
    "Bài 8: Viết chương trình bằng while để tìm bội số chung nhỏ nhất của hai số bất kỳ được nhập từ bàn phím và không sử dụng ước số \n",
    "chung lớn nhất (USCLN) của hai số đó\n",
    "'''\n"
   ]
  },
  {
   "cell_type": "code",
   "execution_count": null,
   "id": "b4460c5d",
   "metadata": {},
   "outputs": [],
   "source": [
    "\"\"\"\n",
    "Bài 9: viết chương trình dùng while Vẽ hình kim cương bằng dấu sao\n",
    "\"\"\"\n",
    "\n"
   ]
  },
  {
   "attachments": {
    "image.png": {
     "image/png": "[encoded data removed]"
    }
   },
   "cell_type": "markdown",
   "id": "12100c28",
   "metadata": {},
   "source": [
    "![image.png](attachment:image.png)"
   ]
  },
  {
   "cell_type": "code",
   "execution_count": null,
   "id": "8ff7e1b6",
   "metadata": {},
   "outputs": [],
   "source": [
    "\"\"\"\n",
    "Bài 10: Viết chương trình mô phỏng trò chơi kéo búa bao theo luật chơi như sau:\n",
    "Quy ước : 1 - Búa,2-kéo,3-bao\n",
    "khi trò chơi bắt đầu , yêu cầu người chơi nhập 1 số từ bàn phím đại diện cho kéo ,búa,bao\n",
    "chương trình tự random ra một lựa chọn từ 1 đến 3\n",
    "Nếu người chơi thua thì tiếp tục chơi cho đến khi kết thúc chương trình\n",
    "ví dụ:\n",
    "Lựa chọn(1-Búa, 2-Kéo,3-Bao): 1\n",
    "Máy tính chọn : 3\n",
    "Người chơi thua\n",
    "\n",
    "Lựa chọn(1-Búa, 2-Kéo,3-Bao): 2\n",
    "Máy tính chọn : 1\n",
    "Người chơi thua\n",
    "\n",
    "Lựa chọn(1-Búa, 2-Kéo,3-Bao): 1\n",
    "Máy tính chọn : 2\n",
    "Người chơi thắng\n",
    "\n",
    "\"\"\"\n"
   ]
  }
 ],
 "metadata": {
  "kernelspec": {
   "display_name": "Python 3 (ipykernel)",
   "language": "python",
   "name": "python3"
  },
  "language_info": {
   "codemirror_mode": {
    "name": "ipython",
    "version": 3
   },
   "file_extension": ".py",
   "mimetype": "text/x-python",
   "name": "python",
   "nbconvert_exporter": "python",
   "pygments_lexer": "ipython3",
   "version": "3.9.13"
  }
 },
 "nbformat": 4,
 "nbformat_minor": 5
}
