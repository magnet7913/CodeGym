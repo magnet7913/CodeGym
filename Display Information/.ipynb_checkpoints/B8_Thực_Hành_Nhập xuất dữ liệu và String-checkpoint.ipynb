{
 "cells": [
  {
   "cell_type": "code",
   "execution_count": 5,
   "id": "c4500382",
   "metadata": {},
   "outputs": [
    {
     "name": "stdout",
     "output_type": "stream",
     "text": [
      "Tôi\n",
      "Titíh\n",
      "T í   c\n",
      "Titíhđ ulc\n",
      "hcịl ud iđ hcíht iôT\n"
     ]
    }
   ],
   "source": [
    "# cắt string theo index\n",
    "# cú pháp : <tên biến > [start:end:step]\n",
    "text = \"Tôi thích đi du lịch\"\n",
    "print(text[0:3])\n",
    "print(text[0:10:2])\n",
    "print(text[0:len(text):3])\n",
    "print(text[: : 2]) #start default là 0 , end default là len(text) ,step có thể đi từ giá trị âm\n",
    "print(text[: : -1])"
   ]
  },
  {
   "cell_type": "code",
   "execution_count": 1,
   "id": "493419fb",
   "metadata": {},
   "outputs": [
    {
     "name": "stdout",
     "output_type": "stream",
     "text": [
      "Python can ban\n"
     ]
    }
   ],
   "source": [
    "# ghep chuỗi và lặp chuỗi \n",
    "text = 'Python'\n",
    "text1 = 'can ban'\n",
    "text2 = text+' '+text1\n",
    "print(text2)"
   ]
  },
  {
   "cell_type": "code",
   "execution_count": 5,
   "id": "ce8e459a",
   "metadata": {},
   "outputs": [
    {
     "name": "stdout",
     "output_type": "stream",
     "text": [
      "3\n",
      "1\n"
     ]
    }
   ],
   "source": [
    "# count\n",
    "content = 'Lớp học python căn bản buổi 8'\n",
    "print(content.count('n'))\n",
    "print(content.count('python'))"
   ]
  },
  {
   "cell_type": "markdown",
   "id": "b6a2b340",
   "metadata": {},
   "source": [
    "#### thực hành xử lý và in ra các thông tin tương ứng trong chuỗi "
   ]
  },
  {
   "cell_type": "code",
   "execution_count": 2,
   "id": "b1467f87",
   "metadata": {},
   "outputs": [
    {
     "name": "stdout",
     "output_type": "stream",
     "text": [
      "Lớp học\n",
      "python \n",
      "căn bản\n",
      "buổi 8\n"
     ]
    }
   ],
   "source": [
    "content = \"Lớp học python căn bản buổi 8\"\n",
    "# in ra 2 chữ :lớp học\n",
    "print(content[:7])\n",
    "# in ra 2 chữ: python\n",
    "print(content[8:14])\n",
    "# in ra 2 chữ: căn bản\n",
    "print(content[15:22])\n",
    "# in ra chữ : buổi 8\n",
    "print(content[len(content)-6:])"
   ]
  },
  {
   "cell_type": "markdown",
   "id": "ac31fbb3",
   "metadata": {},
   "source": [
    "# Bài Tập thực hành"
   ]
  },
  {
   "cell_type": "markdown",
   "id": "4ec0a0d3",
   "metadata": {},
   "source": [
    "## Bài Tập 1"
   ]
  },
  {
   "cell_type": "markdown",
   "id": "ca31248e",
   "metadata": {},
   "source": [
    "Giả sử một chiếc ô tô có vận tốc ban đầu v0, gia tốc a và thời gian t.</p>\n",
    "Viết chương trình python để tìm vận tốc cuối cùng của ô tô và in kết quả ra màn hình.</p>\n",
    "Sử dụng lệnh ép kiểu input() để nhập các giá trị tương ứng cho v0, a và t.</p>\n",
    "Dùng công thức v = v0 + a.t để tính vận tốc cuối cùng"
   ]
  },
  {
   "cell_type": "code",
   "execution_count": 5,
   "id": "aa8f4dde",
   "metadata": {},
   "outputs": [
    {
     "name": "stdout",
     "output_type": "stream",
     "text": [
      "Vận tốc ban đầu của xe là: 50\n",
      "Gia tốc xe là: 10\n",
      "Thời gian xe tăng tốc là: 20\n",
      "Vận tốc sau cùng là 250\n"
     ]
    }
   ],
   "source": [
    "van_toc = float(input(\"Vận tốc ban đầu của xe là: \"))\n",
    "gia_toc = float(input(\"Gia tốc xe là: \"))\n",
    "time = float(input(\"Thời gian xe tăng tốc là: \"))\n",
    "final_speed = van_toc + gia_toc * time\n",
    "print(f\"Vận tốc sau cùng là {final_speed}\")"
   ]
  },
  {
   "cell_type": "markdown",
   "id": "8b02bcd4",
   "metadata": {},
   "source": [
    "## Bài tập 2"
   ]
  },
  {
   "cell_type": "markdown",
   "id": "ab6b37b6",
   "metadata": {},
   "source": [
    "Viết chương trình để nhập điểm kiểm tra, điểm thi giữa kỳ, điểm thi cuối kỳ, sau đó tính tổng điểm và in kết quả ra màn hình"
   ]
  },
  {
   "cell_type": "code",
   "execution_count": 7,
   "id": "095535a9",
   "metadata": {},
   "outputs": [
    {
     "name": "stdout",
     "output_type": "stream",
     "text": [
      "Nhập vào điểm kiểm tra một tiết: 8\n",
      "Nhập vào điểm kiểm tra giữa kỳ: 9\n",
      "Nhập vào điểm kiểm tra cuối kỳ: 10\n",
      "Tổng điểm ba bài kiểm tra là: 27.0\n"
     ]
    }
   ],
   "source": [
    "diem_1_tiet = float(input(\"Nhập vào điểm kiểm tra một tiết: \"))\n",
    "diem_giuaky = float(input(\"Nhập vào điểm kiểm tra giữa kỳ: \"))\n",
    "diem_cuoiky = float(input(\"Nhập vào điểm kiểm tra cuối kỳ: \"))\n",
    "tong_diem = diem_1_tiet + diem_giuaky + diem_cuoiky\n",
    "print(f'Tổng điểm ba bài kiểm tra là: {tong_diem}')"
   ]
  },
  {
   "cell_type": "markdown",
   "id": "076b8074",
   "metadata": {},
   "source": [
    "## Bài Tập 3"
   ]
  },
  {
   "cell_type": "markdown",
   "id": "c0009d80",
   "metadata": {},
   "source": [
    "Viết chương chình nhập vào vận tốc và thời gian của xe chạy của xe taxi </p>\n",
    "yêu cầu 1 :tính quãng đường xe chạy được bao nhiêu km.</p>\n",
    "yêu cầu 2 : đổi km về m </p>\n",
    "yêu cầu 3 : cho biết cứ mỗi 1 km thì được tính với giá cước là 23000 đồng ,hãy tính tổng số tiền khách phải trả."
   ]
  },
  {
   "cell_type": "code",
   "execution_count": 1,
   "id": "08b2a639",
   "metadata": {},
   "outputs": [
    {
     "name": "stdout",
     "output_type": "stream",
     "text": [
      "Nhập vào vận tốc km/h của xe taxi: 50\n",
      "Nhập vào số giờ xe đã chạy: 2.5\n",
      "Quãng đường xe đã chạy là 125.0 km\n",
      "Quãng đường xe đã chạy là 125000.0 m\n",
      "Số tiền cước cần trả là 2875000.0 VND\n"
     ]
    }
   ],
   "source": [
    "speed = float(input(\"Nhập vào vận tốc km/h của xe taxi: \"))\n",
    "time = float(input(\"Nhập vào số giờ xe đã chạy: \"))\n",
    "dist_km = speed * time\n",
    "dist_m = dist_km * 1000\n",
    "fee_km = 23000\n",
    "fee_tol = fee_km * dist_km\n",
    "print(f'Quãng đường xe đã chạy là {dist_km} km')\n",
    "print(f'Quãng đường xe đã chạy là {dist_m} m')\n",
    "print(f'Số tiền cước cần trả là {fee_tol} VND')"
   ]
  },
  {
   "cell_type": "markdown",
   "id": "14e3f09c",
   "metadata": {},
   "source": [
    "## Bài Tập 4"
   ]
  },
  {
   "cell_type": "markdown",
   "id": "07a5d8a0",
   "metadata": {},
   "source": [
    "Nhập vào một string và một số x ,hãy xóa x ký tự đầu tiên của string </p>\n",
    "ví dụ : string = \"hello python\" ,x = 3 </p>\n",
    "    output: \"lo python\""
   ]
  },
  {
   "cell_type": "code",
   "execution_count": 6,
   "id": "b1465df0",
   "metadata": {},
   "outputs": [
    {
     "name": "stdout",
     "output_type": "stream",
     "text": [
      "Nhập vào một câu bất kỳ: MộthaiBaBốn\n",
      "Nhập vào số ký tự đầu câu sẽ bị xóa đi: 6\n",
      "BaBốn\n"
     ]
    }
   ],
   "source": [
    "string = input(\"Nhập vào một câu bất kỳ: \")\n",
    "x = int(input(\"Nhập vào số ký tự đầu câu sẽ bị xóa đi: \"))\n",
    "print(string[x:])"
   ]
  },
  {
   "cell_type": "markdown",
   "id": "1cd79c05",
   "metadata": {},
   "source": [
    "## Bài Tập 5"
   ]
  },
  {
   "cell_type": "markdown",
   "id": "d0956054",
   "metadata": {},
   "source": [
    "Nhập vào một string ,hãy kiểm tra đây có phải là một string đối xứng không</p>\n",
    "Lưu ý : chuối đối xứng là chuối có thứ tự giống nhau khi đọc từ trái sáng phải hoặc ngược lại</p>\n",
    "vd : abba , abcddcba"
   ]
  },
  {
   "cell_type": "code",
   "execution_count": 13,
   "id": "43d5c2eb",
   "metadata": {},
   "outputs": [
    {
     "name": "stdout",
     "output_type": "stream",
     "text": [
      "Nhập vào một chuỗi bất kỳaaabbbbaa\n",
      "Đây không phải là chuỗi đối xứng\n"
     ]
    }
   ],
   "source": [
    "string = input(\"Nhập vào một chuỗi bất kỳ\")\n",
    "if (string[:] == string[::-1]):\n",
    "    print(\"Đây là chuỗi đối xứng\")\n",
    "else:\n",
    "    print(\"Đây không phải là chuỗi đối xứng\")"
   ]
  },
  {
   "cell_type": "markdown",
   "id": "2d88272f",
   "metadata": {},
   "source": [
    "## Bài Tập 6 "
   ]
  },
  {
   "cell_type": "markdown",
   "id": "ba2c57ba",
   "metadata": {},
   "source": [
    "Nhập vào một chuỗi string gồm 5 chữ và thực hiện các thao tác :</p>\n",
    "    in ra đổi 2 chữ đầu tiên</p>\n",
    "    in ra chuỗi đó đều in thường</p>\n",
    "    in ra chuỗi đó đều in hoa</p>\n",
    "    in cắt chuỗi đó thành nhiều chuỗi nhỏ</p>\n",
    "    in cắt đó thành những từ có nghĩa</p>\n",
    "    "
   ]
  },
  {
   "cell_type": "code",
   "execution_count": 2,
   "id": "a86cc73b",
   "metadata": {},
   "outputs": [
    {
     "name": "stdout",
     "output_type": "stream",
     "text": [
      "Nhập vào 5 từ bất kỳ: Một hai Ba Bốn Năj\n",
      "Bạn muốn đổi từ thứ 1 thành: Batman\n",
      "Bạn muốn đổi từ thứ 2 thành: Robin\n",
      "Batman Robin Ba Bốn Năj\n",
      "một hai ba bốn năj\n",
      "MỘT HAI BA BỐN NĂJ\n",
      "['Một', 'hai', 'Ba', 'Bốn', 'Năj']\n"
     ]
    }
   ],
   "source": [
    "string = input(\"Nhập vào 5 từ bất kỳ: \")\n",
    "rep=string.split()\n",
    "rep[0] = input(\"Bạn muốn đổi từ thứ 1 thành: \")\n",
    "rep[1] = input(\"Bạn muốn đổi từ thứ 2 thành: \")\n",
    "rep_final = \" \".join(rep)\n",
    "print(rep_final)\n",
    "print(string.lower())\n",
    "print(string.upper())\n",
    "print(string.split())"
   ]
  },
  {
   "cell_type": "markdown",
   "id": "a562eb4b",
   "metadata": {},
   "source": [
    "## Bài Tập 7"
   ]
  },
  {
   "cell_type": "markdown",
   "id": "fe077b04",
   "metadata": {},
   "source": [
    "Nhập vào 2 chuỗi , chuỗi 1 là Họ và tên đệm, chuỗi 2 là tên của mình </p>\n",
    "Yêu cầu : nối 2 chuỗi lại hoàn chỉnh </p>\n",
    "    vd : Họ tên đêm : Nguyễn Văn </p>\n",
    "        Tên : A</p>\n",
    "     output: Nguyễn Văn A"
   ]
  },
  {
   "cell_type": "code",
   "execution_count": 4,
   "id": "c7787a7c",
   "metadata": {},
   "outputs": [
    {
     "name": "stdout",
     "output_type": "stream",
     "text": [
      "Nhập vào họ và tên đệm của bạn: Bruce\n",
      "Nhập vào tên riêng của bạnWayne\n",
      "Tên đầy đủ của bạn là Bruce Wayne!\n"
     ]
    }
   ],
   "source": [
    "fam_name = input(\"Nhập vào họ và tên đệm của bạn: \")\n",
    "giv_name = input(\"Nhập vào tên riêng của bạn\")\n",
    "ful_name = fam_name + \" \" + giv_name\n",
    "print(f'Tên đầy đủ của bạn là {ful_name}!')"
   ]
  }
 ],
 "metadata": {
  "kernelspec": {
   "display_name": "Python 3 (ipykernel)",
   "language": "python",
   "name": "python3"
  },
  "language_info": {
   "codemirror_mode": {
    "name": "ipython",
    "version": 3
   },
   "file_extension": ".py",
   "mimetype": "text/x-python",
   "name": "python",
   "nbconvert_exporter": "python",
   "pygments_lexer": "ipython3",
   "version": "3.9.13"
  }
 },
 "nbformat": 4,
 "nbformat_minor": 5
}
