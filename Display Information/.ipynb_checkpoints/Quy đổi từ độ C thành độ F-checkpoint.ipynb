{
 "cells": [
  {
   "cell_type": "code",
   "execution_count": 5,
   "id": "ed43fb40",
   "metadata": {},
   "outputs": [
    {
     "name": "stdout",
     "output_type": "stream",
     "text": [
      "Nhập vào độ C:30\n",
      "30 độ C tương đương với 86 độ F\n"
     ]
    }
   ],
   "source": [
    "c = input(\"Nhập vào độ C:\")\n",
    "f = ((9 * int(c)) / 5) +32\n",
    "F = int(f)\n",
    "print(str(c) +\" độ C tương đương với \"+ str(F) + \" độ F\")"
   ]
  },
  {
   "cell_type": "code",
   "execution_count": null,
   "id": "8fef6650",
   "metadata": {},
   "outputs": [],
   "source": []
  }
 ],
 "metadata": {
  "kernelspec": {
   "display_name": "Python 3 (ipykernel)",
   "language": "python",
   "name": "python3"
  },
  "language_info": {
   "codemirror_mode": {
    "name": "ipython",
    "version": 3
   },
   "file_extension": ".py",
   "mimetype": "text/x-python",
   "name": "python",
   "nbconvert_exporter": "python",
   "pygments_lexer": "ipython3",
   "version": "3.9.13"
  }
 },
 "nbformat": 4,
 "nbformat_minor": 5
}
