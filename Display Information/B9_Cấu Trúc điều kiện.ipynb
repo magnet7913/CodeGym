{
 "cells": [
  {
   "cell_type": "markdown",
   "id": "12a1feab",
   "metadata": {},
   "source": [
    "# Cấu Trúc điều kiện"
   ]
  },
  {
   "cell_type": "markdown",
   "id": "1dd33eab",
   "metadata": {},
   "source": [
    "# I - Định nghĩa "
   ]
  },
  {
   "cell_type": "markdown",
   "id": "aa5caf99",
   "metadata": {},
   "source": [
    "## câu lệnh if"
   ]
  },
  {
   "cell_type": "code",
   "execution_count": 12,
   "id": "a03c4dab",
   "metadata": {},
   "outputs": [
    {
     "name": "stdout",
     "output_type": "stream",
     "text": [
      "Nhập vào số gì cũng được: 0\n",
      "Số này nhỏ hơn hoặc bằng 0\n"
     ]
    }
   ],
   "source": [
    "num = int(input(\"Nhập vào số gì cũng được: \"))\n",
    "# == , != , < , > , <= , >= , and , or\n",
    "if num > 0: \n",
    "    print(\"Số này lớn hơn 0\")\n",
    "print(\"Số này nhỏ hơn hoặc bằng 0\")"
   ]
  },
  {
   "cell_type": "markdown",
   "id": "f127090e",
   "metadata": {},
   "source": [
    "## if -else"
   ]
  },
  {
   "cell_type": "code",
   "execution_count": null,
   "id": "198c2c75",
   "metadata": {},
   "outputs": [],
   "source": [
    "num = int(input(\"Nhập vào số gì cũng được: \"))\n",
    "# == , != , < , > , <= , => , and , or\n",
    "if num > 0: \n",
    "    print(\"Số này lớn hơn 0\")\n",
    "else:\n",
    "    print(\"Số này nhỏ hơn hoặc bằng 0\")"
   ]
  },
  {
   "cell_type": "markdown",
   "id": "0c8f98b1",
   "metadata": {},
   "source": [
    "## if lồng nhau"
   ]
  },
  {
   "cell_type": "code",
   "execution_count": 21,
   "id": "c0a1a38e",
   "metadata": {},
   "outputs": [
    {
     "name": "stdout",
     "output_type": "stream",
     "text": [
      "Có mưa không?jhi6bg\n",
      "Trời không mưa\n"
     ]
    }
   ],
   "source": [
    "rain = str.lower(input(\"Có mưa không?\"))\n",
    "if rain == \"có\":\n",
    "    thunder = str.lower(input(\"Có sấm sét không?\"))\n",
    "    if thunder == \"có\":\n",
    "        print(\"Trời vừa có mưa vừa có sấm sét!\")\n",
    "    else:\n",
    "        print(\"Trời mưa nhưng không có sấm sét.\")\n",
    "else:\n",
    "    print(\"Trời không mưa\")"
   ]
  },
  {
   "cell_type": "markdown",
   "id": "52f28599",
   "metadata": {},
   "source": [
    "## if bậc thang"
   ]
  },
  {
   "cell_type": "code",
   "execution_count": 22,
   "id": "385f1c48",
   "metadata": {},
   "outputs": [
    {
     "name": "stdout",
     "output_type": "stream",
     "text": [
      "Nhập một số bất kỳ 9\n",
      "Nhập thêm một số nữa 2\n",
      "Thêm 1 số nữa nha 4\n",
      "Số có một chữ số từ 1 đên 10\n"
     ]
    }
   ],
   "source": [
    "num1 = int(input(\"Nhập một số bất kỳ \"))\n",
    "num2 = int(input(\"Nhập thêm một số nữa \"))\n",
    "num3 = int(input(\"Thêm 1 số nữa nha \"))\n",
    "if num1 > 10:\n",
    "    print(\"số thứ nhất lớn hơn 10\")\n",
    "elif num2 == 5:\n",
    "    print(\"số thứ hai bằng 5\")\n",
    "elif num3 < 0:\n",
    "    print(\"Số thứ ba nhỏ hơn 0\")\n",
    "else:\n",
    "    print(\"Số có một chữ số từ 1 đên 10\")"
   ]
  },
  {
   "cell_type": "code",
   "execution_count": 25,
   "id": "5622ca94",
   "metadata": {},
   "outputs": [
    {
     "name": "stdout",
     "output_type": "stream",
     "text": [
      "Nhập vào một số bất kỳ -10\n",
      "Số này là số chẵn và là số âm\n"
     ]
    }
   ],
   "source": [
    "num = int(input(\"Nhập vào một số bất kỳ \"))\n",
    "if num % 2 ==0 and num > 0:\n",
    "    print(\"Số này là số chẵn và là số dương\")\n",
    "elif num % 2 == 0 and num < 0:\n",
    "    print(\"Số này là số chẵn và là số âm\")\n",
    "elif num == 0:\n",
    "    print(\"Số này bằng 0\")\n",
    "else:\n",
    "    print(\"Không phải số chẵn\")"
   ]
  },
  {
   "cell_type": "code",
   "execution_count": 28,
   "id": "f801193b",
   "metadata": {},
   "outputs": [
    {
     "name": "stdout",
     "output_type": "stream",
     "text": [
      "Nhập vào một số bất kỳ -12\n",
      "Số này không phải là 0\n"
     ]
    }
   ],
   "source": [
    "num = int(input(\"Nhập vào một số bất kỳ \"))\n",
    "if num > 0 or num < 0:\n",
    "    print(\"Số này không phải là 0\")\n",
    "else:\n",
    "    print(\"Số này là 0\")"
   ]
  }
 ],
 "metadata": {
  "kernelspec": {
   "display_name": "Python 3 (ipykernel)",
   "language": "python",
   "name": "python3"
  },
  "language_info": {
   "codemirror_mode": {
    "name": "ipython",
    "version": 3
   },
   "file_extension": ".py",
   "mimetype": "text/x-python",
   "name": "python",
   "nbconvert_exporter": "python",
   "pygments_lexer": "ipython3",
   "version": "3.9.13"
  }
 },
 "nbformat": 4,
 "nbformat_minor": 5
}
