{
 "cells": [
  {
   "cell_type": "markdown",
   "id": "708131ba",
   "metadata": {},
   "source": [
    "# Thực Hành Cấu Trúc điều kiện"
   ]
  },
  {
   "cell_type": "markdown",
   "id": "5c195788",
   "metadata": {},
   "source": [
    "## Đề 1"
   ]
  },
  {
   "cell_type": "markdown",
   "id": "fc969f36",
   "metadata": {},
   "source": [
    "Bài 1: Viết một chương trình xác định một năm có phải năm nhuận hay không ?"
   ]
  },
  {
   "cell_type": "code",
   "execution_count": 8,
   "id": "948275f5",
   "metadata": {},
   "outputs": [
    {
     "name": "stdout",
     "output_type": "stream",
     "text": [
      "Nhập năm cần kiểm tra: 2024\n",
      "2024 là năm nhuận\n"
     ]
    }
   ],
   "source": [
    "# Nhập năm cần kiểm tra\n",
    "year = int(input(\"Nhập năm cần kiểm tra: \"))\n",
    "\n",
    "# Kiểm tra xem năm có phải năm nhuận hay không\n",
    "if year % 4 == 0:\n",
    "    if year % 100 == 0:\n",
    "        if year % 400 == 0:\n",
    "            print(f\"{year} là năm nhuận\")\n",
    "        else:\n",
    "            print(f\"{year} không phải là năm nhuận\")\n",
    "    else:\n",
    "        print(f\"{year} là năm nhuận\")\n",
    "else:\n",
    "    print(f\"{year} không phải là năm nhuận\")\n"
   ]
  },
  {
   "cell_type": "markdown",
   "id": "fdac64f0",
   "metadata": {},
   "source": [
    "Bài 2: Viết một chương trình để tính toán hệ số BMI (chỉ số khối cơ thể) của một người dựa trên cân nặng và chiều cao của họ."
   ]
  },
  {
   "cell_type": "code",
   "execution_count": 5,
   "id": "4ea6572d",
   "metadata": {},
   "outputs": [
    {
     "name": "stdout",
     "output_type": "stream",
     "text": [
      "Nhập cân nặng (tính theo kg): 65\n",
      "Nhập chiều cao (tính theo m): 1.65\n",
      "Hệ số BMI là: 23.88\n",
      "Bạn có cân nặng bình thường\n"
     ]
    }
   ],
   "source": [
    "# Nhập cân nặng (tính theo kg) và chiều cao (tính theo m)\n",
    "weight = float(input(\"Nhập cân nặng (tính theo kg): \"))\n",
    "height = float(input(\"Nhập chiều cao (tính theo m): \"))\n",
    "\n",
    "# Tính toán hệ số BMI\n",
    "bmi = weight / (height ** 2)\n",
    "\n",
    "# In ra kết quả\n",
    "print(f\"Hệ số BMI là: {bmi:.2f}\")\n",
    "\n",
    "# Xác định mức độ gầy hay béo theo hệ số BMI\n",
    "if bmi < 18.5:\n",
    "    print(\"Bạn đang gầy\")\n",
    "elif bmi < 25:\n",
    "    print(\"Bạn có cân nặng bình thường\")\n",
    "elif bmi < 30:\n",
    "    print(\"Bạn béo phì độ 1\")\n",
    "else:\n",
    "    print(\"Bạn béo phì độ 2 hoặc 3\")"
   ]
  },
  {
   "cell_type": "markdown",
   "id": "5e927ffe",
   "metadata": {},
   "source": [
    "Bài 3: Viết một chương trình để tính tuổi của một người dựa trên ngày sinh của họ, phân họ ra làm các nhóm tuổi trẻ em (0->14),Thanh niên (15 - 30) , Trung niên (30 - 59), Cao niên (lớn hơn bằng 60)"
   ]
  },
  {
   "cell_type": "code",
   "execution_count": 6,
   "id": "ae4bf07a",
   "metadata": {},
   "outputs": [
    {
     "name": "stdout",
     "output_type": "stream",
     "text": [
      "Nhập năm sinh: 1976\n",
      "Nhập tháng sinh: 5\n",
      "Nhập ngày sinh: 1\n",
      "Tuổi: 46\n",
      "Trung niên\n"
     ]
    }
   ],
   "source": [
    "import datetime\n",
    "\n",
    "# Nhập ngày sinh\n",
    "year = int(input(\"Nhập năm sinh: \"))\n",
    "month = int(input(\"Nhập tháng sinh: \"))\n",
    "day = int(input(\"Nhập ngày sinh: \"))\n",
    "\n",
    "# Tính số ngày từ ngày sinh đến hiện tại\n",
    "today = datetime.datetime.today()\n",
    "birthday = datetime.datetime(year, month, day)\n",
    "age_in_days = (today - birthday).days\n",
    "\n",
    "# Tính tuổi theo năm\n",
    "age_in_years = age_in_days // 365\n",
    "\n",
    "# In tuổi và nhóm tuổi\n",
    "print(f\"Tuổi: {age_in_years}\")\n",
    "if age_in_years < 15:\n",
    "    print(\"Trẻ em\")\n",
    "elif age_in_years < 31:\n",
    "    print(\"Thanh niên\")\n",
    "elif age_in_years < 60:\n",
    "    print(\"Trung niên\")\n",
    "else:\n",
    "    print(\"Cao niên\")\n"
   ]
  },
  {
   "cell_type": "markdown",
   "id": "5a20b751",
   "metadata": {},
   "source": [
    "Bài 4 :Viết một chương trình để xác định xem một số có phải là số nguyên tố hay không."
   ]
  },
  {
   "cell_type": "code",
   "execution_count": 12,
   "id": "e1f85de7",
   "metadata": {},
   "outputs": [
    {
     "name": "stdout",
     "output_type": "stream",
     "text": [
      "Nhập một số: 25\n",
      "25 không phải là số nguyên tố\n"
     ]
    }
   ],
   "source": [
    "import math\n",
    "\n",
    "num = int(input(\"Nhập một số: \"))\n",
    "\n",
    "if num < 2:\n",
    "    print(num, \"không phải là số nguyên tố\")\n",
    "else:\n",
    "    prime = True\n",
    "    for i in range(2, int(math.sqrt(num)) + 1):\n",
    "        if num % i == 0:\n",
    "            prime = False\n",
    "            break\n",
    "    if prime:\n",
    "        print(num, \"là số nguyên tố\")\n",
    "    else:\n",
    "        print(num, \"không phải là số nguyên tố\")\n"
   ]
  },
  {
   "cell_type": "markdown",
   "id": "47127f74",
   "metadata": {},
   "source": [
    "Bài 5:  Viết chương trình kiểm tra bộ ba số a, b, c nhập vào từ bàn phím có phải là bộ ba cạnh của một tam giác hay không?"
   ]
  },
  {
   "cell_type": "code",
   "execution_count": 8,
   "id": "c9886361",
   "metadata": {},
   "outputs": [
    {
     "name": "stdout",
     "output_type": "stream",
     "text": [
      "Nhập số a: 3\n",
      "Nhập số b: 4\n",
      "Nhập số c: 5\n",
      "Đây là bộ ba cạnh của một tam giác\n"
     ]
    }
   ],
   "source": [
    "# Nhập ba số a, b, c\n",
    "a = int(input(\"Nhập số a: \"))\n",
    "b = int(input(\"Nhập số b: \"))\n",
    "c = int(input(\"Nhập số c: \"))\n",
    "\n",
    "# Kiểm tra xem ba số có phải là bộ ba cạnh của một tam giác hay không\n",
    "if a + b > c and a + c > b and b + c > a:\n",
    "    print(\"Đây là bộ ba cạnh của một tam giác\")\n",
    "else:\n",
    "    print(\"Đây không phải là bộ ba cạnh của một tam giác\")\n"
   ]
  },
  {
   "attachments": {
    "image.png": {
     "image/png": "[encoded data removed]"
    }
   },
   "cell_type": "markdown",
   "id": "e74a56ef",
   "metadata": {},
   "source": [
    "Bài 6 ** Viết chương trình tính phương trình bậc 3 ![image.png](attachment:image.png)"
   ]
  },
  {
   "cell_type": "code",
   "execution_count": 9,
   "id": "6da6b13c",
   "metadata": {},
   "outputs": [
    {
     "name": "stdout",
     "output_type": "stream",
     "text": [
      "Nhập hệ số a: 3\n",
      "Nhập hệ số b: -4\n",
      "Nhập hệ số c: -5\n",
      "Nhập hệ số d: 6\n",
      "Phương trình có 1 nghiệm duy nhất x = 4.241779442363347\n"
     ]
    }
   ],
   "source": [
    "import math\n",
    "\n",
    "# Nhập các hệ số a, b, c, d của phương trình\n",
    "a = float(input(\"Nhập hệ số a: \"))\n",
    "b = float(input(\"Nhập hệ số b: \"))\n",
    "c = float(input(\"Nhập hệ số c: \"))\n",
    "d = float(input(\"Nhập hệ số d: \"))\n",
    "\n",
    "# Tính delta\n",
    "delta = 18*a*b*c*d - 4*b**3*d + b**2*c**2 - 4*a*c**3 - 27*a**2*d**2\n",
    "\n",
    "# Nếu delta = 0, phương trình có 3 nghiệm giống nhau\n",
    "if delta == 0:\n",
    "    x = -b / (3*a)\n",
    "    print(f\"Phương trình có 3 nghiệm giống nhau x = {x}\")\n",
    "\n",
    "# Nếu delta < 0, phương trình có 3 nghiệm khác nhau\n",
    "elif delta < 0:\n",
    "    r = -b / (3*a)\n",
    "    t = -cmath.sqrt(-delta) / (3*a)\n",
    "    x1 = r + t\n",
    "    x2 = r - t\n",
    "    x3 = r\n",
    "    print(f\"Phương trình có 3 nghiệm khác nhau x1 = {x1}, x2 = {x2} và x3 = {x3}\")\n",
    "\n",
    "# Nếu delta > 0, phương trình có 1 nghiệm\n",
    "else:\n",
    "    x = (-b + math.sqrt(delta)) / (3*a)\n",
    "    print(f\"Phương trình có 1 nghiệm duy nhất x = {x}\")\n"
   ]
  },
  {
   "cell_type": "markdown",
   "id": "e853af3e",
   "metadata": {},
   "source": [
    "## Đề 2"
   ]
  },
  {
   "cell_type": "markdown",
   "id": "e15f8e23",
   "metadata": {},
   "source": [
    "Bài 1: Viết một chương trình để tính tổng của tất cả các số nguyên tố trong khoảng từ 1 đến một số nhập vào."
   ]
  },
  {
   "cell_type": "code",
   "execution_count": 10,
   "id": "bc8e659a",
   "metadata": {},
   "outputs": [
    {
     "name": "stdout",
     "output_type": "stream",
     "text": [
      "Nhập số n: 56\n",
      "Tổng các số nguyên tố trong khoảng từ 1 đến 56 là: 381\n"
     ]
    }
   ],
   "source": [
    "def is_prime(n):\n",
    "    # Nếu n < 2 thì không phải số nguyên tố\n",
    "    if n < 2:\n",
    "        return False\n",
    "    # Duyệt từ 2 đến căn bậc 2 của n, nếu n chia hết cho bất kỳ số nào thì n không phải số nguyên tố\n",
    "    for i in range(2, int(n**0.5)+1):\n",
    "        if n % i == 0:\n",
    "            return False\n",
    "    # Nếu không thì n là số nguyên tố\n",
    "    return True\n",
    "\n",
    "# Nhập số n\n",
    "n = int(input(\"Nhập số n: \"))\n",
    "\n",
    "# Tính tổng các số nguyên tố trong khoảng từ 1 đến n\n",
    "sum = 0\n",
    "for i in range(1, n+1):\n",
    "    if is_prime(i):\n",
    "        sum += i\n",
    "\n",
    "# In kết quả ra màn hình\n",
    "print(f\"Tổng các số nguyên tố trong khoảng từ 1 đến {n} là: {sum}\")\n"
   ]
  },
  {
   "cell_type": "code",
   "execution_count": 9,
   "id": "8d4862c6",
   "metadata": {},
   "outputs": [
    {
     "name": "stdout",
     "output_type": "stream",
     "text": [
      "Nhập vào một số n: 45\n",
      "Tổng các số nguyên tố trong khoảng từ 1 đến 45 là 281\n"
     ]
    }
   ],
   "source": [
    "# Nhập vào số n\n",
    "n = int(input(\"Nhập vào một số n: \"))\n",
    "\n",
    "# Khởi tạo biến tổng ban đầu bằng 0\n",
    "tong = 0\n",
    "\n",
    "# Duyệt từ 2 đến n\n",
    "for i in range(2, n+1):\n",
    "   # Kiểm tra xem i có phải là số nguyên tố không\n",
    "   for j in range(2, i):\n",
    "      if (i % j) == 0:\n",
    "         break\n",
    "   else:\n",
    "      # Nếu i là số nguyên tố, thì cộng vào tổng\n",
    "      tong += i\n",
    "\n",
    "# In kết quả\n",
    "print(\"Tổng các số nguyên tố trong khoảng từ 1 đến\", n, \"là\", tong)\n"
   ]
  },
  {
   "cell_type": "markdown",
   "id": "345d337a",
   "metadata": {},
   "source": [
    "Bài 2 :Giả sử có một chiếc xe đang lưu thông trên đường , gặp một ngã tư ,có một đèn tín hiệu giao thông, Hãy viết chương trình để điều khiển giao thông ở nut giao đó."
   ]
  },
  {
   "cell_type": "code",
   "execution_count": 13,
   "id": "189cc984",
   "metadata": {},
   "outputs": [
    {
     "name": "stdout",
     "output_type": "stream",
     "text": [
      "đèn màugreen\n",
      "Xe được phép đi qua ngã tư\n"
     ]
    }
   ],
   "source": [
    "# Khởi tạo các biến cần thiết\n",
    "traffic_light_color = input(\"đèn màu \")  # Màu hiện tại của đèn tín hiệu giao thông\n",
    "\n",
    "if traffic_light_color == \"green\": \n",
    "    # Nếu đèn tín hiệu là xanh và có xe đợi để qua ngã tư, cho phép xe đi qua\n",
    "    print(\"Xe được phép đi qua ngã tư\")\n",
    "elif traffic_light_color == \"yellow\":\n",
    "    # Nếu đèn tín hiệu là vàng, cảnh báo cho xe đợi biết rằng sắp chuyển sang đỏ\n",
    "    print(\"Cảnh báo: Đèn tín hiệu sắp chuyển sang đỏ\")\n",
    "else:\n",
    "    # Nếu đèn tín hiệu là đỏ hoặc không có xe đợi, không cho xe đi qua ngã tư\n",
    "    print(\"Xe không được phép đi qua ngã tư\")\n",
    "\n"
   ]
  },
  {
   "cell_type": "markdown",
   "id": "1b18a69e",
   "metadata": {},
   "source": [
    "Bài 3: Viết một chương trình yêu cầu dự báo thời tiết ngày mai và sau đó gợi ý quần áo phù hợp với thời tiết. Đề xuất sẽ thay đổi nếu nhiệt độ (được đo bằng độ C) là trên 20, 10 hoặc 5 độ, và nếu có mưa trên radar."
   ]
  },
  {
   "cell_type": "code",
   "execution_count": 16,
   "id": "ef2e7b7e",
   "metadata": {},
   "outputs": [
    {
     "name": "stdout",
     "output_type": "stream",
     "text": [
      "nhiệt độ :23\n",
      "Dự báo thời tiết ngày mai:\n",
      "Nhiệt độ cao, có thể sẽ nóng\n",
      "Dự báo không có mưa\n",
      "Gợi ý quần áo cho ngày mai:\n",
      "Đề xuất mặc quần nỉ hoặc vải mỏng, áo sơ mi hoặc áo liền.\n"
     ]
    }
   ],
   "source": [
    "# Khởi tạo các biến cần thiết\n",
    "temperature = int(input(\"nhiệt độ :\" )) # Nhiệt độ hiện tại, được đo bằng độ C\n",
    "raining = False  # Biến kiểm tra có mưa hay không\n",
    "\n",
    "# Dự báo thời tiết ngày mai\n",
    "print(\"Dự báo thời tiết ngày mai:\")\n",
    "if temperature > 20:\n",
    "    print(\"Nhiệt độ cao, có thể sẽ nóng\")\n",
    "elif temperature > 10:\n",
    "    print(\"Nhiệt độ trung bình, có thể sẽ ấm áp\")\n",
    "else:\n",
    "    print(\"Nhiệt độ thấp, có thể sẽ lạnh\")\n",
    "\n",
    "if raining:\n",
    "    print(\"Có thể sẽ có mưa\")\n",
    "else:\n",
    "    print(\"Dự báo không có mưa\")\n",
    "\n",
    "# Gợi ý quần áo phù hợp với thời tiết ngày mai\n",
    "print(\"Gợi ý quần áo cho ngày mai:\")\n",
    "if temperature > 20:\n",
    "    print(\"Đề xuất mặc quần nỉ hoặc vải mỏng, áo sơ mi hoặc áo liền.\")\n",
    "elif temperature > 10:\n",
    "    print(\"Đề xuất mặc quần jean hoặc quần kaki, áo sơ mi hoặc áo len.\")\n",
    "else:\n",
    "    print(\"Đề xuất mặc quần dài hoặc quần lót, áo len hoặc áo khoác.\")\n",
    "\n",
    "if raining:\n",
    "    print(\"Nên mang theo áo mưa\" )\n"
   ]
  },
  {
   "cell_type": "markdown",
   "id": "bcefbd69",
   "metadata": {},
   "source": [
    "Bài 4 : Viết chương trình thực hiện thông báo cho người sử dụng nhập vào giá trị ba số nguyên và tìm giá trị lớn nhất trong ba giá trị này"
   ]
  },
  {
   "cell_type": "code",
   "execution_count": 17,
   "id": "d7d1ebb1",
   "metadata": {},
   "outputs": [
    {
     "name": "stdout",
     "output_type": "stream",
     "text": [
      "Nhập vào số thứ nhất: 34\n",
      "Nhập vào số thứ hai: 23\n",
      "Nhập vào số thứ ba: 199\n",
      "Giá trị lớn nhất trong ba số là: 199\n"
     ]
    }
   ],
   "source": [
    "# Hỏi người dùng nhập vào giá trị ba số nguyên\n",
    "num1 = int(input(\"Nhập vào số thứ nhất: \"))\n",
    "num2 = int(input(\"Nhập vào số thứ hai: \"))\n",
    "num3 = int(input(\"Nhập vào số thứ ba: \"))\n",
    "\n",
    "# Tìm giá trị lớn nhất trong ba số nguyên\n",
    "max_num = num1  # Giả sử số thứ nhất là giá trị lớn nhất\n",
    "if num2 > max_num:  # Nếu số thứ hai lớn hơn số thứ nhất\n",
    "    max_num = num2  # Cập nhật giá trị lớn nhất là số thứ hai\n",
    "if num3 > max_num:  # Nếu số thứ ba lớn hơn số lớn nhất hiện tại\n",
    "    max_num = num3  # Cập nhật giá trị lớn nhất là số thứ ba\n",
    "\n",
    "# Thông báo kết quả cho người dùng\n",
    "print(\"Giá trị lớn nhất trong ba số là:\", max_num)\n"
   ]
  },
  {
   "cell_type": "markdown",
   "id": "450a22f3",
   "metadata": {},
   "source": [
    "Bài 5:  Viết chương trình nhập vào 3 số thực dương bất kỳ, xuất ra màn hình đó là tam giác thường, tam giác cân, tam giác vuông, tam giác vuông cân, tam giác đều hay không phải là ba cạnh của một tam giác?"
   ]
  },
  {
   "cell_type": "code",
   "execution_count": 19,
   "id": "64a7a8f3",
   "metadata": {},
   "outputs": [
    {
     "name": "stdout",
     "output_type": "stream",
     "text": [
      "Nhập vào số thứ nhất: 23\n",
      "Nhập vào số thứ hai: 45\n",
      "Nhập vào số thứ ba: 23\n",
      "Đây là tam giác cân.\n"
     ]
    }
   ],
   "source": [
    "# Hỏi người dùng nhập vào ba số thực dương\n",
    "a = float(input(\"Nhập vào số thứ nhất: \"))\n",
    "b = float(input(\"Nhập vào số thứ hai: \"))\n",
    "c = float(input(\"Nhập vào số thứ ba: \"))\n",
    "\n",
    "# Kiểm tra xem có phải ba cạnh của một tam giác hay không\n",
    "if a + b > c and a + c > b and b + c > a:\n",
    "    # Nếu đúng, tiếp tục kiểm tra các loại tam giác khác\n",
    "    if a == b == c:\n",
    "        print(\"Đây là tam giác đều.\")\n",
    "    elif a == b or a == c or b == c:\n",
    "        print(\"Đây là tam giác cân.\")\n",
    "    elif a ** 2 + b ** 2 == c ** 2 or a ** 2 + c ** 2 == b ** 2 or b ** 2 + c ** 2 == a ** 2:\n",
    "        print(\"Đây là tam giác vuông cân.\")\n",
    "    elif a == b or a == c or b == c:\n",
    "        print(\"Đây là tam giác thường.\")\n",
    "    else:\n",
    "        print(\"Đây là tam giác vuông.\")\n",
    "else:\n",
    "    print(\"Đây không phải tam giác\")\n"
   ]
  },
  {
   "cell_type": "markdown",
   "id": "fde5b970",
   "metadata": {},
   "source": [
    "Bài 6 ** Viết chương trình để giải 1 câu đố cổ của Trung Quốc: Một trang trại thỏ và gà có 35 đầu, 94 chân, hỏi số thỏ và gà là bao nhiêu?\n",
    "(khuyến khích sài vòng lặp for nếu biết)"
   ]
  },
  {
   "cell_type": "code",
   "execution_count": 18,
   "id": "64a73ba9",
   "metadata": {},
   "outputs": [
    {
     "name": "stdout",
     "output_type": "stream",
     "text": [
      "Số thỏ là 12\n",
      "Số gà là 23\n"
     ]
    }
   ],
   "source": [
    "# Khởi tạo các biến cần thiết\n",
    "num_heads = 35  # Số đầu của thỏ và gà\n",
    "num_legs = 94  # Số chân của thỏ và gà\n",
    "\n",
    "# Sử dụng vòng lặp for để tìm số lượng thỏ và gà\n",
    "for num_rabbits in range(num_heads + 1):  # Lặp từ 0 đến số đầu tính cả 0\n",
    "    num_chickens = num_heads - num_rabbits  # Số gà bằng tổng số đầu trừ số thỏ\n",
    "    if num_rabbits * 4 + num_chickens * 2 == num_legs:  # Nếu tổng số chân đúng\n",
    "        # In kết quả và kết thúc vòng lặp\n",
    "        print(\"Số thỏ là\", num_rabbits)\n",
    "        print(\"Số gà là\", num_chickens)\n",
    "        break\n",
    "\n",
    "# Nếu không tìm thấy kết quả, in thông báo lỗi\n",
    "else:\n",
    "    print(\"Không tìm thấy số lượng thỏ và gà hợp lệ.\")\n"
   ]
  },
  {
   "cell_type": "markdown",
   "id": "490ee030",
   "metadata": {},
   "source": [
    "## Đề 3 "
   ]
  },
  {
   "cell_type": "markdown",
   "id": "57b4126e",
   "metadata": {},
   "source": [
    "Bài 1: Dãy Fibonacci được tính dựa trên công thức sau:</p>\n",
    "\n",
    "f(n)=0 nếu n=0</p>\n",
    "f(n)=1 nếu n=1</p>\n",
    "f(n)=f(n-1)+f(n-2) nếu n>1</p>\n",
    "Hãy viết chương trình tính giá trị của f(n) với n là số được người dùng nhập vào. Ví dụ: Nếu n được nhập vào là 7 thì đầu ra của chương trình sẽ là 13"
   ]
  },
  {
   "cell_type": "code",
   "execution_count": 15,
   "id": "9dca956a",
   "metadata": {},
   "outputs": [
    {
     "name": "stdout",
     "output_type": "stream",
     "text": [
      "Nhập một số: 7\n",
      "Số Fibonacci thứ 7 là 13\n"
     ]
    }
   ],
   "source": [
    "num = int(input(\"Nhập một số: \"))\n",
    "\n",
    "if num == 0:\n",
    "    print(\"Số Fibonacci thứ\", num, \"là 0\")\n",
    "elif num == 1:\n",
    "    print(\"Số Fibonacci thứ\", num, \"là 1\")\n",
    "else:\n",
    "    a, b = 0, 1\n",
    "    for i in range(2, num + 1):\n",
    "        a, b = b, a + b\n",
    "    print(\"Số Fibonacci thứ\", num, \"là\", b)\n"
   ]
  },
  {
   "cell_type": "markdown",
   "id": "b272aa6d",
   "metadata": {},
   "source": [
    "Bài 2 : Hãy viết chương trình nhập vào số nguyên dương n. Kiểm tra xem n có phải là số\n",
    "chính phương hay không? (số chính phương là số khi lấy căn bậc 2 có kết quả là\n",
    "nguyên). Hãy viết chương trình kiểm tra số chính phương."
   ]
  },
  {
   "cell_type": "code",
   "execution_count": 24,
   "id": "7b884ea0",
   "metadata": {},
   "outputs": [
    {
     "name": "stdout",
     "output_type": "stream",
     "text": [
      "Nhập vào số nguyên dương n: 12\n",
      "False\n"
     ]
    }
   ],
   "source": [
    "import math\n",
    "\n",
    "def is_square(n):\n",
    "  if n < 0:\n",
    "    return False\n",
    "  elif n == 0:\n",
    "    return True\n",
    "  else:\n",
    "    x = int(math.sqrt(n))\n",
    "    return x*x == n\n",
    "\n",
    "# Sử dụng hàm\n",
    "n = int(input(\"Nhập vào số nguyên dương n: \"))\n",
    "print(is_square(n))\n"
   ]
  },
  {
   "cell_type": "code",
   "execution_count": 10,
   "id": "e58d087b",
   "metadata": {},
   "outputs": [
    {
     "name": "stdout",
     "output_type": "stream",
     "text": [
      "Nhập vào số nguyên dương n: 16\n",
      "16 là số chính phương\n"
     ]
    }
   ],
   "source": [
    "# Không sử dụng hàm\n",
    "# Nhập vào số n\n",
    "n = int(input(\"Nhập vào số nguyên dương n: \"))\n",
    "\n",
    "# Khởi tạo biến chứa căn bậc 2 của n\n",
    "can_n = n ** 0.5\n",
    "\n",
    "# Kiểm tra xem căn bậc 2 của n có phải là số nguyên hay không\n",
    "if can_n.is_integer():\n",
    "   print(n, \"là số chính phương\")\n",
    "else:\n",
    "   print(n, \"không phải là số chính phương\")\n"
   ]
  },
  {
   "cell_type": "markdown",
   "id": "ba743590",
   "metadata": {},
   "source": [
    "Bài 3: Kiểm tra mùa trong năm xem tháng mấy là Thu, Đông, Xuân hay Hè. Nếu thông tin người dùng nhập là: Tháng 9, 10 hoặc 11 thì mùa là Thu; Tháng 12, tháng 01 hoặc 02 thì mùa Đông; Tháng 3, tháng 4 hoặc tháng 5 thì mùa Xuân; Tháng 6, tháng 7 hoặc tháng 8 thì mùa Hạ."
   ]
  },
  {
   "cell_type": "code",
   "execution_count": 25,
   "id": "62a724f7",
   "metadata": {},
   "outputs": [
    {
     "name": "stdout",
     "output_type": "stream",
     "text": [
      "Nhập vào tháng: 12\n",
      "Dong\n"
     ]
    }
   ],
   "source": [
    "def get_season(month):\n",
    "  month = int(month)\n",
    "  if month in [9, 10, 11]:\n",
    "    return \"Thu\"\n",
    "  elif month in [12, 1, 2]:\n",
    "    return \"Dong\"\n",
    "  elif month in [3, 4, 5]:\n",
    "    return \"Xuan\"\n",
    "  elif month in [6, 7, 8]:\n",
    "    return \"He\"\n",
    "\n",
    "# Sử dụng hàm\n",
    "month = input(\"Nhập vào tháng: \")\n",
    "print(get_season(month))\n"
   ]
  },
  {
   "cell_type": "code",
   "execution_count": 14,
   "id": "a97a055a",
   "metadata": {},
   "outputs": [
    {
     "name": "stdout",
     "output_type": "stream",
     "text": [
      "Nhập vào tháng: 12\n",
      "Đây là mùa Đông\n"
     ]
    }
   ],
   "source": [
    "# không sử dụng hàm\n",
    "# Nhập vào tháng\n",
    "thang = int(input(\"Nhập vào tháng: \"))\n",
    "\n",
    "# Kiểm tra mùa dựa trên tháng\n",
    "if thang == 9 or thang == 10 or thang == 11:\n",
    "   print(\"Đây là mùa Thu\")\n",
    "elif thang == 12 or thang == 1 or thang == 2:\n",
    "   print(\"Đây là mùa Đông\")\n",
    "elif thang == 3 or thang == 4 or thang == 5:\n",
    "   print(\"Đây là mùa Xuân\")\n",
    "elif thang == 6 or thang == 7 or thang == 8:\n",
    "   print(\"Đây là mùa Hạ\")\n",
    "else:\n",
    "   print(\"Tháng không hợp lệ\")\n"
   ]
  },
  {
   "cell_type": "markdown",
   "id": "e0bc1dbb",
   "metadata": {},
   "source": [
    "Bài 4: Giải phương trình bậc nhất ax+b=0 (với a, b là kiểu số nguyên)."
   ]
  },
  {
   "cell_type": "code",
   "execution_count": 26,
   "id": "ead1b597",
   "metadata": {},
   "outputs": [
    {
     "name": "stdout",
     "output_type": "stream",
     "text": [
      "Nhập vào số nguyên a: 2\n",
      "Nhập vào số nguyên b: 3\n",
      "-1.5\n"
     ]
    }
   ],
   "source": [
    "def solve_equation(a, b):\n",
    "  if a == 0:\n",
    "    if b == 0:\n",
    "      return \"Phương trình có vô số nghiệm\"\n",
    "    else:\n",
    "      return \"Phương trình vô nghiệm\"\n",
    "  else:\n",
    "    return -b/a\n",
    "\n",
    "# Sử dụng hàm\n",
    "a = int(input(\"Nhập vào số nguyên a: \"))\n",
    "b = int(input(\"Nhập vào số nguyên b: \"))\n",
    "print(solve_equation(a, b))\n"
   ]
  },
  {
   "cell_type": "code",
   "execution_count": 16,
   "id": "f4442d54",
   "metadata": {},
   "outputs": [
    {
     "name": "stdout",
     "output_type": "stream",
     "text": [
      "Nhập vào hệ số a: 2\n",
      "Nhập vào hệ số b: 3\n",
      "Nghiệm của phương trình là -1.5\n"
     ]
    }
   ],
   "source": [
    "# không viết bằng hàm\n",
    "# Nhập vào hệ số a và hệ số b\n",
    "a = int(input(\"Nhập vào hệ số a: \"))\n",
    "b = int(input(\"Nhập vào hệ số b: \"))\n",
    "\n",
    "# Kiểm tra trường hợp a = 0\n",
    "if a == 0:\n",
    "   if b == 0:\n",
    "      print(\"Phương trình vô số nghiệm\")\n",
    "   else:\n",
    "      print(\"Phương trình vô nghiệm\")\n",
    "else:\n",
    "   # Tính nghiệm x\n",
    "   x = -b / a\n",
    "   print(\"Nghiệm của phương trình là\", x)"
   ]
  },
  {
   "cell_type": "markdown",
   "id": "a875c355",
   "metadata": {},
   "source": [
    "Bài 4: Giá bán cam tại siêu thị tính như sau: nếu khối lượng cam mua dưới 5kg thì giá bán là 12 000 đồng/kg, nếu khối lượng mua lớn hơn hoặc bằng 5kg thì giá bán là 10 000 đồng/kg. Viết chương trình nhập số lượng mua (tính theo kg) sau đó tính số tiền phải trả."
   ]
  },
  {
   "cell_type": "code",
   "execution_count": 27,
   "id": "66c6d5ed",
   "metadata": {},
   "outputs": [
    {
     "name": "stdout",
     "output_type": "stream",
     "text": [
      "Nhập số lượng cam mua (tính theo kg): 1\n",
      "12000\n"
     ]
    }
   ],
   "source": [
    "def get_price(quantity):\n",
    "  if quantity < 5:\n",
    "    return quantity * 12000\n",
    "  else:\n",
    "    return quantity * 10000\n",
    "\n",
    "# Sử dụng hàm\n",
    "quantity = int(input(\"Nhập số lượng cam mua (tính theo kg): \"))\n",
    "print(get_price(quantity))"
   ]
  },
  {
   "cell_type": "code",
   "execution_count": 17,
   "id": "5e13db11",
   "metadata": {},
   "outputs": [
    {
     "name": "stdout",
     "output_type": "stream",
     "text": [
      "Nhập vào số lượng cam mua (kg): 1\n",
      "số tiền phải trả là 12000.0 \n"
     ]
    }
   ],
   "source": [
    "# không viết bằng Hàm\n",
    "# Nhập vào số lượng cam mua\n",
    "luong_mua = float(input(\"Nhập vào số lượng cam mua (kg): \"))\n",
    "\n",
    "# Tính số tiền phải trả\n",
    "if luong_mua < 5:\n",
    "   thanh_tien = luong_mua * 12000\n",
    "else:\n",
    "   thanh_tien = luong_mua * 10000\n",
    "# in ra số tiền phải trả khi mua hàng\n",
    "print(f\"số tiền phải trả là {thanh_tien} \")"
   ]
  },
  {
   "cell_type": "markdown",
   "id": "69105c22",
   "metadata": {},
   "source": [
    "Bài 5** : viết chương trình chia thành 2 bảng A và B đấu ở Aff CUP 2022 và tính điểm(Thắng 3đ ,Bại 0đ,Hòa 1đ) thi đấu theo thể thức vòng tròn.</p>  Mỗi bảng đấu lấy 2 đội nhất và nhì bảng để thi đấu tiếp vào vòng bán kết ,đội nhất bảng A sẽ thi đấu với đội nhì bảng B và ngược lại.</p> Để chọn ra 2 đội xuất sắc nhất thi đấu ở trận chung kết nếu đội nào thắng sẽ là nhà vô địch .</p> Được biết trong danh sách có 10 đội (Thailand,Laos,Campuchia,Singapore,Vietnam, Indonesia, Malaysia, Philippines,Myanmar,Timor-Leste,Brunei) các đội tham gia ,các đội không được trùng nhau ở các bảng đấu."
   ]
  },
  {
   "cell_type": "code",
   "execution_count": 13,
   "id": "38b815e6",
   "metadata": {},
   "outputs": [
    {
     "name": "stdout",
     "output_type": "stream",
     "text": [
      "Enter the result of the match between Thailand and Singapore: \n",
      "Enter the result of the match between Laos and Cambodia: \n",
      "Enter the result of the match between Cambodia and Laos: \n",
      "Enter the result of the match between Singapore and Thailand: \n",
      "Enter the result of the match between Malaysia and Timor-Leste: \n",
      "Enter the result of the match between Philippines and Myanmar: \n",
      "Enter the result of the match between Myanmar and Philippines: \n",
      "Enter the result of the match between Timor-Leste and Malaysia: \n",
      "Enter the result of the match between Thailand and Singapore: \n",
      "Enter the result of the match between Laos and Cambodia: \n",
      "Enter the result of the match between Cambodia and Laos: \n",
      "Enter the result of the match between Singapore and Thailand: \n",
      "Enter the result of the match between Malaysia and Timor-Leste: \n",
      "Enter the result of the match between Philippines and Myanmar: \n",
      "Enter the result of the match between Myanmar and Philippines: \n",
      "Enter the result of the match between Timor-Leste and Malaysia: \n",
      "Enter the result of the match between Thailand and Singapore: \n",
      "Enter the result of the match between Laos and Cambodia: \n",
      "Enter the result of the match between Cambodia and Laos: \n",
      "Enter the result of the match between Singapore and Thailand: \n",
      "Enter the result of the match between Malaysia and Timor-Leste: \n",
      "Enter the result of the match between Philippines and Myanmar: \n",
      "Enter the result of the match between Myanmar and Philippines: \n",
      "Enter the result of the match between Timor-Leste and Malaysia: \n",
      "Enter the result of the match between Thailand and Singapore: \n",
      "Enter the result of the match between Laos and Cambodia: \n",
      "Enter the result of the match between Cambodia and Laos: \n",
      "Enter the result of the match between Singapore and Thailand: \n",
      "Enter the result of the match between Malaysia and Timor-Leste: \n",
      "Enter the result of the match between Philippines and Myanmar: \n",
      "Enter the result of the match between Myanmar and Philippines: \n",
      "Enter the result of the match between Timor-Leste and Malaysia: \n",
      "Enter the result of the match between Thailand and Singapore: \n",
      "Enter the result of the match between Laos and Cambodia: \n",
      "Enter the result of the match between Cambodia and Laos: \n",
      "Enter the result of the match between Singapore and Thailand: \n",
      "Enter the result of the match between Malaysia and Timor-Leste: \n",
      "Enter the result of the match between Philippines and Myanmar: \n",
      "Enter the result of the match between Myanmar and Philippines: \n",
      "Enter the result of the match between Timor-Leste and Malaysia: \n",
      "The 2 best teams are: Thailand (Group A) and Laos (Group B)\n"
     ]
    }
   ],
   "source": [
    "# List of participating teams\n",
    "teams = [\"Thailand\", \"Laos\", \"Cambodia\", \"Singapore\", \"Vietnam\", \"Indonesia\", \"Malaysia\", \"Philippines\", \"Myanmar\", \"Timor-Leste\", \"Brunei\"]\n",
    "\n",
    "# Reorder the team list according to the group\n",
    "# Group A\n",
    "table_a = teams[:6]\n",
    "# Group B\n",
    "table_b = teams[6:]\n",
    "\n",
    "# Variable to store the scores of each team\n",
    "scores = {team: 0 for team in teams}\n",
    "\n",
    "# Round-robin\n",
    "for i in range(5):\n",
    "    # Matches between teams in Group A\n",
    "    for j in range(4):\n",
    "        team1 = table_a[j]\n",
    "        team2 = table_a[4-j-1]\n",
    "        result = input(f\"Enter the result of the match between {team1} and {team2}: \")\n",
    "        if result == \"Win\":\n",
    "            scores[team1] += 3\n",
    "        elif result == \"Draw\":\n",
    "            scores[team1] += 1\n",
    "            scores[team2] += 1\n",
    "        else:\n",
    "            scores[team2] += 3\n",
    "\n",
    "    # Matches between teams in Group B\n",
    "    for j in range(4):\n",
    "        team1 = table_b[j]\n",
    "        team2 = table_b[4-j-1]\n",
    "        result = input(f\"Enter the result of the match between {team1} and {team2}: \")\n",
    "        if result == \"Win\":\n",
    "            scores[team1] += 3\n",
    "        elif result == \"Draw\":\n",
    "            scores[team1] += 1\n",
    "            scores[team2] += 1\n",
    "        else:\n",
    "            scores[team2] += 3\n",
    "\n",
    "# Reorder the team list according to the scores\n",
    "sorted_scores = sorted(scores.items(), key=lambda x: x[1], reverse=True)\n",
    "\n",
    "# Print the 2 best teams from Group A and B\n",
    "best_team_a = sorted_scores[0][0]\n",
    "best_team_b = sorted_scores[1][0]\n",
    "print(f\"The 2 best teams are: {best_team_a} (Group A) and {best_team_b} (Group B)\")"
   ]
  },
  {
   "cell_type": "code",
   "execution_count": 15,
   "id": "a796b1c5",
   "metadata": {},
   "outputs": [
    {
     "name": "stdout",
     "output_type": "stream",
     "text": [
      "WELCOME TO AFF CUP\n",
      "\n",
      "Bảng đấu mùa này như sau:\n",
      "\b Bảng A           Bảng B\n",
      "Malaysia         Indonesia\n",
      "Brunei           Campuchia\n",
      "Philippines      Timor-Leste\n",
      "Laos             Vietnam\n",
      "Myanmar          Thailand\n",
      "\n",
      "Cuộc đối đầu giữa các đội trong bảng A diễn ra như sau:\n",
      "Trận đấu giữa Malaysia và Brunei có kết quả (w/t/l):  w\n",
      "Trận đấu giữa Malaysia và Philippines có kết quả (w/t/l):  t\n",
      "Trận đấu giữa Malaysia và Laos có kết quả (w/t/l):  l\n",
      "Trận đấu giữa Malaysia và Myanmar có kết quả (w/t/l):  w\n",
      "Trận đấu giữa Brunei và Philippines có kết quả (w/t/l):  t\n",
      "Trận đấu giữa Brunei và Laos có kết quả (w/t/l):  l\n",
      "Trận đấu giữa Brunei và Myanmar có kết quả (w/t/l):  w\n",
      "Trận đấu giữa Philippines và Laos có kết quả (w/t/l):  t\n",
      "Trận đấu giữa Philippines và Myanmar có kết quả (w/t/l):  l\n",
      "Trận đấu giữa Laos và Myanmar có kết quả (w/t/l):  w\n",
      "\n",
      "Cuộc đối đầu giữa các đội trong bảng B diễn ra như sau:\n",
      "Trận đấu giữa Indonesia và Campuchia có kết quả (w/t/l):  w\n",
      "Trận đấu giữa Indonesia và Timor-Leste có kết quả (w/t/l):  w\n",
      "Trận đấu giữa Indonesia và Vietnam có kết quả (w/t/l):  l\n",
      "Trận đấu giữa Indonesia và Thailand có kết quả (w/t/l):  l\n",
      "Trận đấu giữa Campuchia và Timor-Leste có kết quả (w/t/l):  t\n",
      "Trận đấu giữa Campuchia và Vietnam có kết quả (w/t/l):  w\n",
      "Trận đấu giữa Campuchia và Thailand có kết quả (w/t/l):  w\n",
      "Trận đấu giữa Timor-Leste và Vietnam có kết quả (w/t/l):  l\n",
      "Trận đấu giữa Timor-Leste và Thailand có kết quả (w/t/l):  w\n",
      "Trận đấu giữa Vietnam và Thailand có kết quả (w/t/l):  w\n",
      "\n",
      "\n",
      "Tổng điểm các đội 2 bảng A và B như sau:\n",
      "\n",
      " Bảng A                   Bảng B\n",
      "Laos          10        Vietnam       9\n",
      "Malaysia      7         Campuchia     7\n",
      "Brunei        4         Indonesia     6\n",
      "Philippines   3         Timor-Leste   4\n",
      "Myanmar       3         Thailand      3\n",
      "\n",
      "Trận bán kết thứ nhất giữa Laos và Campuchia có kết quả (w/l):  w\n",
      "\n",
      "Trận bán kết thứ hai giữa Vietnam và Malaysia có kết quả (w/l):  w\n",
      "\n",
      "\n",
      "Chúng ta đã xác định được hai đội tuyển mạnh nhất vào chung kết.\n",
      " \n",
      "\bĐó là LAOS và VIETNAM\n",
      "Trận chung kết giữa Laos và Vietnam có kết quả (w/l):  l\n",
      "\n",
      "\n",
      "CHÚC MỪNG TÂN VƯƠNG CỦA AFF CUP VIETNAM\n"
     ]
    }
   ],
   "source": [
    "import random as r\n",
    "import time as t\n",
    "team=['Thailand','Laos','Campuchia','Singapore','Vietnam', 'Indonesia',\n",
    "   'Malaysia', 'Philippines','Myanmar','Timor-Leste','Brunei']\n",
    "\n",
    "#chia bảng\n",
    "r.shuffle(team)\n",
    "bang1=[team[i] for i in range(5)]\n",
    "bang2=[team[i] for i in range(5,10)]\n",
    "score1={team:0 for team in bang1}\n",
    "score2={team:0 for team in bang2}\n",
    "print('WELCOME TO AFF CUP\\n')\n",
    "t.sleep(1)\n",
    "print('Bảng đấu mùa này như sau:')\n",
    "t.sleep(1)\n",
    "print('\\b Bảng A           Bảng B')\n",
    "for i in range(5):\n",
    "    print(bang1[i],' '*(15-len(bang1[i])),bang2[i])\n",
    "    t.sleep(0.5)\n",
    "t.sleep(2)\n",
    "#hàm đấu bảng vòng tròn tính điểm\n",
    "def dau_bang(bang,score):\n",
    "    for i in range(0,len(bang)+1):\n",
    "        for j in range(i+1,len(bang)):\n",
    "            a=''\n",
    "            while a not in ['w','t','l']:\n",
    "                print('Trận đấu giữa',bang[i],'và',bang[j],\n",
    "                        'có kết quả (w/t/l): ',end=' ')\n",
    "                a=input()\n",
    "                if a=='w':\n",
    "                    score[bang[i]]+=3\n",
    "                elif a=='t':\n",
    "                    score[bang[i]]+=1\n",
    "                    score[bang[j]]+=1\n",
    "                elif a=='l':\n",
    "                    score[bang[j]]+=3\n",
    "                else:\n",
    "                    print('Bạn đã nhập sai cú pháp')\n",
    "            t.sleep(0.1)\n",
    "\n",
    "#hàm bán kết\n",
    "def dau_bk(bk,a,ck):\n",
    "    b=''\n",
    "    while b not in ['w','l']:\n",
    "        print('\\nTrận bán kết',a,'giữa',bk[0],'và',bk[1],\n",
    "              'có kết quả (w/l): ',end=' ')\n",
    "        b=input()\n",
    "        if b=='w':\n",
    "            ck.append(bk[0])\n",
    "        elif b=='l':\n",
    "            ck.append(bk[1])\n",
    "        else:\n",
    "            print('Bạn đã nhập sai cú pháp')\n",
    "    t.sleep(0.2)\n",
    "            \n",
    "#hàm chung kết\n",
    "def dau_ck(ck):\n",
    "    b=''\n",
    "    while b not in ['w','l']:\n",
    "        print('Trận chung kết giữa',ck[0],'và',ck[1],\n",
    "              'có kết quả (w/l): ',end=' ')\n",
    "        b=input()\n",
    "        t.sleep(2)\n",
    "        if b=='w':\n",
    "            print('\\n\\nCHÚC MỪNG TÂN VƯƠNG CỦA AFF CUP',ck[0].upper())\n",
    "        elif b=='l':\n",
    "            print('\\n\\nCHÚC MỪNG TÂN VƯƠNG CỦA AFF CUP',ck[1].upper())\n",
    "        else:\n",
    "            print('Bạn đã nhập sai cú pháp')\n",
    "\n",
    "#Vòng bảng\n",
    "print('\\nCuộc đối đầu giữa các đội trong bảng A diễn ra như sau:')\n",
    "t.sleep(0.5)\n",
    "dau_bang(bang1, score1)\n",
    "list1=sorted(list(score1.items()),key=lambda x:x[1],reverse=True)\n",
    "print('\\nCuộc đối đầu giữa các đội trong bảng B diễn ra như sau:')\n",
    "t.sleep(0.5)\n",
    "dau_bang(bang2, score2)\n",
    "list2=sorted(list(score2.items()),key=lambda x:x[1],reverse=True)\n",
    "print('\\n\\nTổng điểm các đội 2 bảng A và B như sau:\\n\\n',\n",
    "      '\\b Bảng A                   Bảng B')\n",
    "for i in range(5):\n",
    "    print(list1[i][0],' '*(12-len(list1[i][0])),list1[i][1],' '*(8-len(str(list1[i][1]))),\n",
    "          list2[i][0],' '*(12-len(list2[i][0])),list2[i][1])\n",
    "\n",
    "#Bán kết\n",
    "bk1=[list1[0][0],list2[1][0]]\n",
    "bk2=[list2[0][0],list1[1][0]]\n",
    "ck=[]\n",
    "dau_bk(bk1, 'thứ nhất', ck)\n",
    "dau_bk(bk2, 'thứ hai', ck)\n",
    "print('\\n\\nChúng ta đã xác định được hai đội tuyển mạnh nhất vào chung kết.\\n',\n",
    "      '\\n\\bĐó là',ck[0].upper(),'và',ck[1].upper())\n",
    "\n",
    "#Chung kết\n",
    "t.sleep(1)\n",
    "dau_ck(ck)"
   ]
  },
  {
   "cell_type": "code",
   "execution_count": null,
   "id": "74f9bfd5",
   "metadata": {},
   "outputs": [],
   "source": []
  }
 ],
 "metadata": {
  "kernelspec": {
   "display_name": "Python 3 (ipykernel)",
   "language": "python",
   "name": "python3"
  },
  "language_info": {
   "codemirror_mode": {
    "name": "ipython",
    "version": 3
   },
   "file_extension": ".py",
   "mimetype": "text/x-python",
   "name": "python",
   "nbconvert_exporter": "python",
   "pygments_lexer": "ipython3",
   "version": "3.9.13"
  }
 },
 "nbformat": 4,
 "nbformat_minor": 5
}
