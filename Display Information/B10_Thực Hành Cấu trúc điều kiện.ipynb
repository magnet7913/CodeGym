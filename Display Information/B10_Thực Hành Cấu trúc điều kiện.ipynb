{
 "cells": [
  {
   "cell_type": "markdown",
   "id": "708131ba",
   "metadata": {},
   "source": [
    "# Thực Hành Cấu Trúc điều kiện"
   ]
  },
  {
   "cell_type": "markdown",
   "id": "5c195788",
   "metadata": {},
   "source": [
    "## Đề 1"
   ]
  },
  {
   "cell_type": "markdown",
   "id": "fc969f36",
   "metadata": {},
   "source": [
    "Bài 1: Viết một chương trình xác định một năm có phải năm nhuận hay không ?"
   ]
  },
  {
   "cell_type": "code",
   "execution_count": 9,
   "id": "948275f5",
   "metadata": {},
   "outputs": [
    {
     "name": "stdout",
     "output_type": "stream",
     "text": [
      "Nhập vào năm muốn biết có phải năm nhuận hay không: 2021\n",
      "Năm 2021 không phải là năm nhuận!\n"
     ]
    }
   ],
   "source": [
    "cyear = int(input('Nhập vào năm muốn biết có phải năm nhuận hay không: '))\n",
    "lyear = cyear % 4\n",
    "if lyear == 0:\n",
    "    print(f'Năm {cyear} đích thị là năm nhuận!')\n",
    "else:\n",
    "    print(f'Năm {cyear} không phải là năm nhuận!')"
   ]
  },
  {
   "cell_type": "markdown",
   "id": "fdac64f0",
   "metadata": {},
   "source": [
    "Bài 2: Viết một chương trình để tính toán hệ số BMI (chỉ số khối cơ thể) của một người dựa trên cân nặng và chiều cao của họ."
   ]
  },
  {
   "cell_type": "code",
   "execution_count": 10,
   "id": "4ea6572d",
   "metadata": {},
   "outputs": [
    {
     "name": "stdout",
     "output_type": "stream",
     "text": [
      "Nhập vào chiều cao bằng CM của bạn: 186\n",
      "Nhập vào khối lượng bằng KG của bạn: 84\n",
      "Chỉ số BMI của bạn là 24.280263614290668\n"
     ]
    }
   ],
   "source": [
    "hei = float(input('Nhập vào chiều cao bằng CM của bạn: '))\n",
    "wei = float(input('Nhập vào khối lượng bằng KG của bạn: '))\n",
    "bmi = wei/((hei/100)**2)\n",
    "print(f'Chỉ số BMI của bạn là {bmi}')"
   ]
  },
  {
   "cell_type": "markdown",
   "id": "5e927ffe",
   "metadata": {},
   "source": [
    "Bài 3: Viết một chương trình để tính tuổi của một người dựa trên ngày sinh của họ, phân họ ra làm các nhóm tuổi trẻ em (0->14),Thanh niên (15 - 30) , Trung niên (30 - 59), Cao niên (lớn hơn bằng 60)"
   ]
  },
  {
   "cell_type": "code",
   "execution_count": 2,
   "id": "ae4bf07a",
   "metadata": {},
   "outputs": [
    {
     "name": "stdout",
     "output_type": "stream",
     "text": [
      "Năm nay là năm bao nhiêu?2023\n",
      "Năm sinh của bạn là bao nhiêu?1991\n",
      "Vậy bạn năm nay 32 tuổi!\n",
      "Bạn thuộc độ tuổi trung niên!\n"
     ]
    }
   ],
   "source": [
    "cyear = int(input('Năm nay là năm bao nhiêu?'))\n",
    "byear = int(input('Năm sinh của bạn là bao nhiêu?'))\n",
    "age = cyear - byear\n",
    "print(f'Vậy bạn năm nay {age} tuổi!')\n",
    "if age <= 14:\n",
    "    print('Bạn thuộc độ tuổi trẻ em!')\n",
    "elif age <= 30:\n",
    "    print('Bạn thuộc độ tuổi thanh niên!')\n",
    "elif age <= 59:\n",
    "    print('Bạn thuộc độ tuổi trung niên!')\n",
    "elif age <= 30:\n",
    "    print('Bạn thuộc độ tuổi cao niên!')"
   ]
  },
  {
   "cell_type": "markdown",
   "id": "5a20b751",
   "metadata": {},
   "source": [
    "Bài 4 :Viết một chương trình để xác định xem một số có phải là số nguyên tố hay không."
   ]
  },
  {
   "cell_type": "code",
   "execution_count": 54,
   "id": "e1f85de7",
   "metadata": {},
   "outputs": [
    {
     "name": "stdout",
     "output_type": "stream",
     "text": [
      "Nhập vào một số nguyên bất kỳ: 165\n",
      "165 không phải là số nguyên tố.\n"
     ]
    }
   ],
   "source": []
  },
  {
   "cell_type": "markdown",
   "id": "47127f74",
   "metadata": {},
   "source": [
    "Bài 5:  Viết chương trình kiểm tra bộ ba số a, b, c nhập vào từ bàn phím có phải là bộ ba cạnh của một tam giác hay không?"
   ]
  },
  {
   "cell_type": "code",
   "execution_count": 55,
   "id": "c9886361",
   "metadata": {},
   "outputs": [
    {
     "name": "stdout",
     "output_type": "stream",
     "text": [
      "Nhập vào độ dài cạnh thứ 17\n",
      "Nhập vào độ dài cạnh thứ 24\n",
      "Nhập vào độ dài cạnh thứ 33\n",
      "Ba cạnh này không thể thuộc cùng một tam giác\n"
     ]
    }
   ],
   "source": [
    "a = float(input('Nhập vào độ dài cạnh thứ 1: '))\n",
    "b = float(input('Nhập vào độ dài cạnh thứ 2: '))\n",
    "c = float(input('Nhập vào độ dài cạnh thứ 3: '))\n",
    "if (a==b) or (b==c) or (a==c):\n",
    "    print('Ba cạnh này thuộc một tam giác cân')\n",
    "elif a==b==c:\n",
    "    print('Đây là ba cạnh của một tam giác đều')\n",
    "elif (a**2==b**2+c**2) or (b**2==c**2+a**2) or (c**2==a**2+b**2):\n",
    "    print('Ba cạnh này thuộc một tam giác vuông')\n",
    "else:\n",
    "    print('Ba cạnh này không thể thuộc cùng một tam giác')"
   ]
  },
  {
   "attachments": {
    "image.png": {
     "image/png": "[encoded data removed]"
    }
   },
   "cell_type": "markdown",
   "id": "e74a56ef",
   "metadata": {},
   "source": [
    "Bài 6 ** Viết chương trình tính phương trình bậc 3 ![image.png](attachment:image.png)"
   ]
  },
  {
   "cell_type": "code",
   "execution_count": 8,
   "id": "6da6b13c",
   "metadata": {},
   "outputs": [
    {
     "name": "stdout",
     "output_type": "stream",
     "text": [
      "Nhập vào giá trị a: 4\n",
      "Nhập vào giá trị b: 5\n",
      "Nhập vào giá trị c: 6\n",
      "Nhập vào giá trị d: 7\n",
      "Đồ thị bậc ba của bạn có dạng 4.0x^3 + 5.0x^2 + 6.0x +7.0 = 0\n",
      "Phuong trình có một nghiệm x = (0.4278653159014271+0.9443236276038641j)\n"
     ]
    }
   ],
   "source": [
    "import math\n",
    "a = float(input('Nhập vào giá trị a: '))\n",
    "b = float(input('Nhập vào giá trị b: '))\n",
    "c = float(input('Nhập vào giá trị c: '))\n",
    "d = float(input('Nhập vào giá trị d: '))\n",
    "pi = 3.14\n",
    "print(f'Đồ thị bậc ba của bạn có dạng {a}x^3 + {b}x^2 + {c}x +{d} = 0')\n",
    "delta = b**2 - (3*a*c)\n",
    "if delta >= 0:\n",
    "    apsodelta = delta\n",
    "else:\n",
    "    apsodelta = delta * -1\n",
    "\n",
    "k = (9*a*b*c-2*b**3-27*a**2*d) / (2*(apsodelta**3)**(1/2))\n",
    "if k >= 0:\n",
    "    apsok = k\n",
    "else:\n",
    "    apsok = k * -1\n",
    "    \n",
    "if delta > 0 and apsok <= 1:\n",
    "    x1 = (2 * delta**(1/2) * math.cos(math.acos(k)/3)-b)/(3*a)\n",
    "    x2 = (2 * delta**(1/2) * math.cos(math.acos(k)/3-(2*pi/3))-b)/(3*a)\n",
    "    x3 = (2 * delta**(1/2) * math.cos(math.acos(k)/3+(2*pi/3))-b)/(3*a)\n",
    "    print(f'Phương trình có ba nghiệm x1 = {x1}, x2 = {x2}, x3 = {x3}.')\n",
    "elif delta > 0 and apsok > 1:\n",
    "    x = (delta**(1/2)*apsok)*(((apsok+(k**2-1)**(1/2))**(1/3))+((apsok-(k**2-1)**(1/2))**(1/3)))-(b/(3*a))\n",
    "    print(f'Phương trình có một nghiệm x = {x}')\n",
    "elif delta == 0:\n",
    "    x = (-b + ((b**3-27*a**2*d)**(1/3)))/(3*a)\n",
    "    print(f'Phương trình có một nghiệm bội x = {x}')\n",
    "elif delta < 0:\n",
    "    x = (apsodelta**(1/2)/(3*a))*(((k+(k**2+1)**(1/2))**(1/3))+((k-(k**2+1)**(1/2))**(1/3)))-b/(3*a)\n",
    "    print(f'Phuong trình có một nghiệm x = {x}')"
   ]
  },
  {
   "cell_type": "markdown",
   "id": "e853af3e",
   "metadata": {},
   "source": [
    "## Đề 2"
   ]
  },
  {
   "cell_type": "markdown",
   "id": "e15f8e23",
   "metadata": {},
   "source": [
    "Bài 1: Viết một chương trình để tính tổng của tất cả các số nguyên tố trong khoảng từ 1 đến một số nhập vào."
   ]
  },
  {
   "cell_type": "code",
   "execution_count": null,
   "id": "bc8e659a",
   "metadata": {},
   "outputs": [],
   "source": []
  },
  {
   "cell_type": "markdown",
   "id": "345d337a",
   "metadata": {},
   "source": [
    "Bài 2 :Giả sử có một chiếc xe đang lưu thông trên đường , gặp một ngã tư ,có một đèn tín hiệu giao thông, Hãy viết chương trình để điều khiển giao thông ở nut giao đó."
   ]
  },
  {
   "cell_type": "code",
   "execution_count": null,
   "id": "189cc984",
   "metadata": {},
   "outputs": [],
   "source": []
  },
  {
   "cell_type": "markdown",
   "id": "1b18a69e",
   "metadata": {},
   "source": [
    "Bài 3: Viết một chương trình yêu cầu dự báo thời tiết ngày mai và sau đó gợi ý quần áo phù hợp với thời tiết. Đề xuất sẽ thay đổi nếu nhiệt độ (được đo bằng độ C) là trên 20, 10 hoặc 5 độ, và nếu có mưa trên radar."
   ]
  },
  {
   "cell_type": "code",
   "execution_count": null,
   "id": "ef2e7b7e",
   "metadata": {},
   "outputs": [],
   "source": []
  },
  {
   "cell_type": "markdown",
   "id": "bcefbd69",
   "metadata": {},
   "source": [
    "Bài 4 : Viết chương trình thực hiện thông báo cho người sử dụng nhập vào giá trị ba số nguyên và tìm giá trị lớn nhất trong ba giá trị này"
   ]
  },
  {
   "cell_type": "code",
   "execution_count": null,
   "id": "d7d1ebb1",
   "metadata": {},
   "outputs": [],
   "source": []
  },
  {
   "cell_type": "markdown",
   "id": "450a22f3",
   "metadata": {},
   "source": [
    "Bài 5:  Viết chương trình nhập vào 3 số thực dương bất kỳ, xuất ra màn hình đó là tam giác thường, tam giác cân, tam giác vuông, tam giác vuông cân, tam giác đều hay không phải là ba cạnh của một tam giác?"
   ]
  },
  {
   "cell_type": "code",
   "execution_count": null,
   "id": "64a7a8f3",
   "metadata": {},
   "outputs": [],
   "source": []
  },
  {
   "cell_type": "markdown",
   "id": "fde5b970",
   "metadata": {},
   "source": [
    "Bài 6 ** Viết chương trình để giải 1 câu đố cổ của Trung Quốc: Một trang trại thỏ và gà có 35 đầu, 94 chân, hỏi số thỏ và gà là bao nhiêu?\n",
    "(khuyến khích sài vòng lặp for nếu biết)"
   ]
  },
  {
   "cell_type": "code",
   "execution_count": null,
   "id": "64a73ba9",
   "metadata": {},
   "outputs": [],
   "source": []
  },
  {
   "cell_type": "markdown",
   "id": "490ee030",
   "metadata": {},
   "source": [
    "## Đề 3 "
   ]
  },
  {
   "cell_type": "markdown",
   "id": "57b4126e",
   "metadata": {},
   "source": [
    "Bài 1: Dãy Fibonacci được tính dựa trên công thức sau:</p>\n",
    "\n",
    "f(n)=0 nếu n=0</p>\n",
    "f(n)=1 nếu n=1</p>\n",
    "f(n)=f(n-1)+f(n-2) nếu n>1</p>\n",
    "Hãy viết chương trình tính giá trị của f(n) với n là số được người dùng nhập vào. Ví dụ: Nếu n được nhập vào là 7 thì đầu ra của chương trình sẽ là 13"
   ]
  },
  {
   "cell_type": "code",
   "execution_count": null,
   "id": "9dca956a",
   "metadata": {},
   "outputs": [],
   "source": []
  },
  {
   "cell_type": "markdown",
   "id": "b272aa6d",
   "metadata": {},
   "source": [
    "Bài 2 : Hãy viết chương trình nhập vào số nguyên dương n. Kiểm tra xem n có phải là số\n",
    "chính phương hay không? (số chính phương là số khi lấy căn bậc 2 có kết quả là\n",
    "nguyên). Hãy viết chương trình kiểm tra số chính phương."
   ]
  },
  {
   "cell_type": "code",
   "execution_count": null,
   "id": "7b884ea0",
   "metadata": {},
   "outputs": [],
   "source": []
  },
  {
   "cell_type": "markdown",
   "id": "ba743590",
   "metadata": {},
   "source": [
    "Bài 3: Kiểm tra mùa trong năm xem tháng mấy là Thu, Đông, Xuân hay Hè. Nếu thông tin người dùng nhập là: Tháng 9, 10 hoặc 11 thì mùa là Thu; Tháng 12, tháng 01 hoặc 02 thì mùa Đông; Tháng 3, tháng 4 hoặc tháng 5 thì mùa Xuân; Tháng 6, tháng 7 hoặc tháng 8 thì mùa Hạ."
   ]
  },
  {
   "cell_type": "code",
   "execution_count": null,
   "id": "62a724f7",
   "metadata": {},
   "outputs": [],
   "source": []
  },
  {
   "cell_type": "markdown",
   "id": "e0bc1dbb",
   "metadata": {},
   "source": [
    "Bài 4: Giải phương trình bậc nhất ax+b=0 (với a, b là kiểu số nguyên)."
   ]
  },
  {
   "cell_type": "code",
   "execution_count": null,
   "id": "ead1b597",
   "metadata": {},
   "outputs": [],
   "source": []
  },
  {
   "cell_type": "markdown",
   "id": "a875c355",
   "metadata": {},
   "source": [
    "Bài 4: Giá bán cam tại siêu thị tính như sau: nếu khối lượng cam mua dưới 5kg thì giá bán là 12 000 đồng/kg, nếu khối lượng mua lớn hơn hoặc bằng 5kg thì giá bán là 10 000 đồng/kg. Viết chương trình nhập số lượng mua (tính theo kg) sau đó tính số tiền phải trả."
   ]
  },
  {
   "cell_type": "markdown",
   "id": "69105c22",
   "metadata": {},
   "source": [
    "Bài 5** : viết chương trình chia thành 2 bảng A và B đấu ở Aff CUP 2022 và tính điểm(Thắng 3đ ,Bại 0đ,Hòa 1đ) thi đấu theo thể thức vòng tròn.</p>  Mỗi bảng đấu lấy 2 đội nhất và nhì bảng để thi đấu tiếp vào vòng bán kết ,đội nhất bảng A sẽ thi đấu với đội nhì bảng B và ngược lại.</p> Để chọn ra 2 đội xuất sắc nhất thi đấu ở trận chung kết nếu đội nào thắng sẽ là nhà vô địch .</p> Được biết trong danh sách có 10 đội (Thailand,Laos,Campuchia,Singapore,Vietnam, Indonesia, Malaysia, Philippines,Myanmar,Timor-Leste,Brunei) các đội tham gia ,các đội không được trùng nhau ở các bảng đấu."
   ]
  },
  {
   "cell_type": "code",
   "execution_count": null,
   "id": "38b815e6",
   "metadata": {},
   "outputs": [],
   "source": []
  }
 ],
 "metadata": {
  "kernelspec": {
   "display_name": "Python 3 (ipykernel)",
   "language": "python",
   "name": "python3"
  },
  "language_info": {
   "codemirror_mode": {
    "name": "ipython",
    "version": 3
   },
   "file_extension": ".py",
   "mimetype": "text/x-python",
   "name": "python",
   "nbconvert_exporter": "python",
   "pygments_lexer": "ipython3",
   "version": "3.9.13"
  }
 },
 "nbformat": 4,
 "nbformat_minor": 5
}
