{
 "cells": [
  {
   "cell_type": "markdown",
   "id": "4bb7ce8c",
   "metadata": {},
   "source": [
    "# Thực Hành Vòng lặp While"
   ]
  },
  {
   "cell_type": "code",
   "execution_count": 18,
   "id": "31713936",
   "metadata": {},
   "outputs": [
    {
     "name": "stdout",
     "output_type": "stream",
     "text": [
      "1015  1050  1085  1120  1155  1190  1225  1260  1295  1330  1365  1400  1435  1470  1505  1540  1575  1610  1645  1680  1715  1750  1785  1820  1855  1890  1925  1960  1995  2030  2065  2100  2135  2170  2205  2240  2275  2310  2345  2380  2415  2450  2485  2520  2555  2590  2625  2660  2695  "
     ]
    }
   ],
   "source": [
    "\"\"\"\n",
    "Bài 1:viết chương trình in ra tất cả các số chia hết cho 5 và 7 trong khoảng từ 1000 đến 2700\n",
    "\n",
    "\"\"\"\n",
    "num = 1000\n",
    "\n",
    "while num <= 2700:\n",
    "    if num % 5 == 0 and num % 7 ==0:\n",
    "        print(num,' ',end='')\n",
    "    num += 1"
   ]
  },
  {
   "cell_type": "code",
   "execution_count": 6,
   "id": "4ddcd58c",
   "metadata": {},
   "outputs": [
    {
     "name": "stdout",
     "output_type": "stream",
     "text": [
      "*****\n",
      "****\n",
      "***\n",
      "**\n",
      "*\n"
     ]
    }
   ],
   "source": [
    "\"\"\"\n",
    "Bài 2 : Viết chương trình nhập vào chiều cao tam giác vuông và in ra hình tam giác có hình dạng như sau:\n",
    "*****\n",
    "****\n",
    "***\n",
    "**\n",
    "*\n",
    "\"\"\"\n",
    "num = 5\n",
    "while num > 0:\n",
    "    print('*'*num)\n",
    "    num -= 1"
   ]
  },
  {
   "cell_type": "code",
   "execution_count": 8,
   "id": "d7a43af9",
   "metadata": {},
   "outputs": [
    {
     "name": "stdout",
     "output_type": "stream",
     "text": [
      "* * * * * * \n",
      "* * * * * \n",
      "* * * * \n",
      "* * * \n",
      "* * \n",
      "* \n"
     ]
    }
   ],
   "source": [
    "\"\"\"\n",
    "Bài 3: Viết chương trình nhập vào chiều cao của tam giác vuông và in ra tam giác có hình dạng như sau:\n",
    "* * * * * *\n",
    "* * * * *\n",
    "* * * * \n",
    "* * * \n",
    "* * \n",
    "*\n",
    "\"\"\"\n",
    "num = 6\n",
    "while num > 0:\n",
    "    print('* '*num)\n",
    "    num -= 1"
   ]
  },
  {
   "cell_type": "code",
   "execution_count": 38,
   "id": "1a6f16df",
   "metadata": {},
   "outputs": [
    {
     "name": "stdout",
     "output_type": "stream",
     "text": [
      "* - * - * - \b\b\n",
      "* - * - \n",
      "* - * - \b\b\n",
      "* - \n",
      "* - \b\b\n"
     ]
    }
   ],
   "source": [
    "\"\"\"\n",
    "Bài 4: Viết chương trình nhập vào chiều cao tam giác vuông và in ra tam giác có hình dạng như sau:\n",
    "* - * - *\n",
    "* - * -\n",
    "* - *\n",
    "* -\n",
    "*\n",
    "\"\"\"\n",
    "num = 5\n",
    "i=num\n",
    "while i > 0:\n",
    "    if i%2==0:\n",
    "        j=i//2\n",
    "        print('* - '*j)\n",
    "        i -= 1\n",
    "    else:\n",
    "        j = i//2+1\n",
    "        print('* - '*j)\n",
    "        i -= 1"
   ]
  },
  {
   "cell_type": "code",
   "execution_count": 4,
   "id": "6c9d2b0c",
   "metadata": {},
   "outputs": [
    {
     "name": "stdout",
     "output_type": "stream",
     "text": [
      "Nhập số bất kỳ: 4\n",
      "2.083333333333333\n"
     ]
    }
   ],
   "source": [
    "\"\"\"\n",
    "Bài 5: Viết chương trình bằng while  để tìm tổng dãy số: 1/1 + 1/2 + 1/3 + 1/4 + ... với số phần tử nhập từ bàn phím.\n",
    "\"\"\"\n",
    "frac = float(input('Nhập số bất kỳ: '))\n",
    "total_frac = 0\n",
    "while frac > 0:\n",
    "    total_frac += (1/frac)\n",
    "    frac -= 1\n",
    "print(total_frac)"
   ]
  },
  {
   "cell_type": "code",
   "execution_count": 17,
   "id": "07669a93",
   "metadata": {},
   "outputs": [
    {
     "name": "stdout",
     "output_type": "stream",
     "text": [
      "Nhập giá trị x: 5\n",
      "Nhập giá trị n: 3\n",
      "-4.340277777777779\n"
     ]
    }
   ],
   "source": [
    "\"\"\"\n",
    "Bài 6: Viết chương trình bằng while để tìm tổng dãy số: 1 - x2/2! + x4/4! - ... với giá trị x và số phần tử nhập từ bàn phím.\n",
    "\"\"\"\n",
    "import math\n",
    "\n",
    "x = int(input('Nhập giá trị x: '))\n",
    "n = int(input('Nhập giá trị n: '))\n",
    "\n",
    "sum_all = 0\n",
    "sign = 1\n",
    "\n",
    "while n > 1:\n",
    "    sum_all += (sign*x**(2*n)/math.factorial(2*n))\n",
    "    n -= 1\n",
    "    sign = sign*(-1)\n",
    "\n",
    "print(sum_all)\n"
   ]
  },
  {
   "cell_type": "code",
   "execution_count": 21,
   "id": "f062542f",
   "metadata": {},
   "outputs": [
    {
     "name": "stdout",
     "output_type": "stream",
     "text": [
      "Nhập một số bất kỳ: 985\n",
      "Nhập một số bất kỳ: 34\n",
      "Ước chung lớn nhất là:  1\n"
     ]
    }
   ],
   "source": [
    "\"\"\"\n",
    "Bài 7: Viết chương trình bằng while để tìm ước số chung lớn nhất của hai số được nhập từ bàn phím\n",
    "\"\"\"\n",
    "num1 = int(input('Nhập một số bất kỳ: '))\n",
    "num2 = int(input('Nhập một số bất kỳ: '))\n",
    "if num1==0 or num2==0:\n",
    "    print('Ước chung lớn nhất là: ',num1+num2)\n",
    "else:\n",
    "    while(num1!=num2):\n",
    "        if num1>num2:\n",
    "            num1=num1-num2\n",
    "        else:\n",
    "            num2=num2-num1\n",
    "print('Ước chung lớn nhất là: ',num1)"
   ]
  },
  {
   "cell_type": "code",
   "execution_count": 6,
   "id": "a26a6c45",
   "metadata": {},
   "outputs": [
    {
     "name": "stdout",
     "output_type": "stream",
     "text": [
      "Nhập một số bất kỳ: 40\n",
      "Nhập một số bất kỳ: 52\n",
      "Bội chung nhỏ nhất là:  520.0\n"
     ]
    }
   ],
   "source": [
    "'''\n",
    "Bài 8: Viết chương trình bằng while để tìm bội số chung nhỏ nhất của hai số bất kỳ được nhập từ bàn phím và không sử dụng ước số \n",
    "chung lớn nhất (USCLN) của hai số đó\n",
    "'''\n",
    "num1 = int(input('Nhập một số bất kỳ: '))\n",
    "num2 = int(input('Nhập một số bất kỳ: '))\n",
    "x1 = num1\n",
    "x2 = num2\n",
    "\n",
    "while num1 % (2**x1) !=0:\n",
    "        x1 -= 1\n",
    "while num2 % (2**x2) !=0:\n",
    "        x2 -= 1\n",
    "        \n",
    "bcnn = (2**x1) * (num1/(2**x1)) * (num2/(2**x2))\n",
    "\n",
    "print('Bội chung nhỏ nhất là: ',bcnn)"
   ]
  },
  {
   "cell_type": "code",
   "execution_count": 2,
   "id": "b4460c5d",
   "metadata": {},
   "outputs": [
    {
     "name": "stdout",
     "output_type": "stream",
     "text": [
      "    * \n",
      "   *** \n",
      "  ***** \n",
      " ******* \n",
      "  *****  \n",
      "   ***   \n",
      "    *    \n"
     ]
    }
   ],
   "source": [
    "\"\"\"\n",
    "Bài 9: viết chương trình dùng while Vẽ hình kim cương bằng dấu sao\n",
    "\"\"\"\n",
    "num = int(7)\n",
    "a = 1\n",
    "\n",
    "while a <= num: \n",
    "    print(' '*(num//2-a//2),'*'*a,''*(num//2-a//2))\n",
    "    a += 2\n",
    "a = num - 2\n",
    "while a > 0:\n",
    "    print(' '*(num//2-a//2),'*'*a,' '*(num//2-a//2))\n",
    "    a -= 2"
   ]
  },
  {
   "attachments": {
    "image.png": {
     "image/png": "[encoded data removed]"
    }
   },
   "cell_type": "markdown",
   "id": "12100c28",
   "metadata": {},
   "source": [
    "![image.png](attachment:image.png)"
   ]
  },
  {
   "cell_type": "markdown",
   "id": "d704bbe1",
   "metadata": {},
   "source": [
    "\"\"\"\n",
    "Bài 10: Viết chương trình mô phỏng trò chơi kéo búa bao theo luật chơi như sau:\n",
    "Quy ước : 1 - Búa,2-kéo,3-bao\n",
    "khi trò chơi bắt đầu , yêu cầu người chơi nhập 1 số từ bàn phím đại diện cho kéo ,búa,bao\n",
    "chương trình tự random ra một lựa chọn từ 1 đến 3\n",
    "Nếu người chơi thua thì tiếp tục chơi cho đến khi kết thúc chương trình\n",
    "ví dụ:\n",
    "Lựa chọn(1-Búa, 2-Kéo,3-Bao): 1\n",
    "Máy tính chọn : 3\n",
    "Người chơi thua\n",
    "\n",
    "Lựa chọn(1-Búa, 2-Kéo,3-Bao): 2\n",
    "Máy tính chọn : 1\n",
    "Người chơi thua\n",
    "\n",
    "Lựa chọn(1-Búa, 2-Kéo,3-Bao): 1\n",
    "Máy tính chọn : 2\n",
    "Người chơi thắng\n",
    "\n",
    "\"\"\""
   ]
  },
  {
   "cell_type": "code",
   "execution_count": null,
   "id": "45dd439e",
   "metadata": {},
   "outputs": [],
   "source": [
    "from random import randint\n",
    "\n",
    "# win = False\n",
    "# while win == False:\n",
    "#     play = int(input(\"Lựa chọn(1-Búa, 2-Kéo,3-Bao): \"))\n",
    "#     com = randint(1,3)\n",
    "#     print('Máy tính đã chọn: ',com)\n",
    "#     if play == com:\n",
    "#         print('Huề!')\n",
    "#     elif play == 1 and com == 2:\n",
    "#         print('Người chơi thắng!')\n",
    "#         win = True\n",
    "#     elif play == 2 and com == 3:\n",
    "#         print('Người chơi thắng!')\n",
    "#         win = True\n",
    "#     elif play == 3 and com == 1:\n",
    "#         print('Người chơi thắng!')\n",
    "#         win = True\n",
    "#     else:\n",
    "#         print('Người chơi thua!')\n",
    "        \n",
    "        \n",
    "win = False\n",
    "while win == False:\n",
    "    play = int(input(\"Lựa chọn(1-Búa, 2-Kéo,3-Bao): \"))\n",
    "    com = randint(1,3)\n",
    "    choice = []\n",
    "    print('Máy tính đã chọn: ',com)\n",
    "    if play == com:\n",
    "        print('Huề!')\n",
    "    elif play == 1 and com == 2:\n",
    "        print('Người chơi thắng!')\n",
    "        win = True\n",
    "    elif play == 2 and com == 3:\n",
    "        print('Người chơi thắng!')\n",
    "        win = True\n",
    "    elif play == 3 and com == 1:\n",
    "        print('Người chơi thắng!')\n",
    "        win = True\n",
    "    else:\n",
    "        print('Người chơi thua!')"
   ]
  }
 ],
 "metadata": {
  "kernelspec": {
   "display_name": "Python 3 (ipykernel)",
   "language": "python",
   "name": "python3"
  },
  "language_info": {
   "codemirror_mode": {
    "name": "ipython",
    "version": 3
   },
   "file_extension": ".py",
   "mimetype": "text/x-python",
   "name": "python",
   "nbconvert_exporter": "python",
   "pygments_lexer": "ipython3",
   "version": "3.9.13"
  }
 },
 "nbformat": 4,
 "nbformat_minor": 5
}
