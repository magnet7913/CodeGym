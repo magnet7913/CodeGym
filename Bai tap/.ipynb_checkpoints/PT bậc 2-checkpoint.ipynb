{
 "cells": [
  {
   "cell_type": "code",
   "execution_count": null,
   "id": "2add156f",
   "metadata": {},
   "outputs": [],
   "source": [
    "# ax2+bx+c=0\n",
    "# nếu a = 0, phương trình trở thành phương trình bậc 1\n",
    "# Tính delta = b^2 - 4ac\n",
    "# delta < 0 phương trình vô nghiệm\n",
    "# delta = 0 nghiệm kép x = -b/2a\n",
    "# delta > 0, x1 = (-b + delta^-1)/2a, x2 = (-b - delta^-1)/2a"
   ]
  },
  {
   "cell_type": "code",
   "execution_count": 9,
   "id": "6dfb0b48",
   "metadata": {},
   "outputs": [
    {
     "name": "stdout",
     "output_type": "stream",
     "text": [
      "Nhập giá trị A, B và C!\n",
      "Nhập giá trị A: 2\n",
      "Nhập giá trị B: 5\n",
      "Nhập giá trị B: 3\n",
      "Phương trình bậc 2 của bạn là: 2.0x^2 + 5.0x + 3.0 = 0\n",
      "Phương trình có hai nghiệm, x1 = -1.0 và x2 = -1.5\n"
     ]
    }
   ],
   "source": [
    "print('Nhập giá trị A, B và C!')\n",
    "a = float(input('Nhập giá trị A: '))\n",
    "b = float(input('Nhập giá trị B: '))\n",
    "c = float(input('Nhập giá trị B: '))\n",
    "print(f'Phương trình bậc 2 của bạn là: {a}x^2 + {b}x + {c} = 0')\n",
    "import math\n",
    "delta = b**2 - 4*a*c\n",
    "if delta < 0:\n",
    "    print('Phương trình vô nghiệm!')\n",
    "elif delta == 0:\n",
    "    x = str(-b/(2*a))\n",
    "    print(f'Phương trình có nghiệm kép bằng: {x}')\n",
    "elif delta > 0:\n",
    "    x1 = str((-b + delta**(1/2))/(2*a))\n",
    "    x2 = str((-b - delta**(1/2))/(2*a))\n",
    "    print(f'Phương trình có hai nghiệm, x1 = {x1} và x2 = {x2}')\n"
   ]
  }
 ],
 "metadata": {
  "kernelspec": {
   "display_name": "Python 3 (ipykernel)",
   "language": "python",
   "name": "python3"
  },
  "language_info": {
   "codemirror_mode": {
    "name": "ipython",
    "version": 3
   },
   "file_extension": ".py",
   "mimetype": "text/x-python",
   "name": "python",
   "nbconvert_exporter": "python",
   "pygments_lexer": "ipython3",
   "version": "3.9.13"
  }
 },
 "nbformat": 4,
 "nbformat_minor": 5
}
